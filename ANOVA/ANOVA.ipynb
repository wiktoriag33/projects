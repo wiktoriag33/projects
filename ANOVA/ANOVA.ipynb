{
 "cells": [
  {
   "cell_type": "markdown",
   "id": "f7d285e8-bd29-4f85-bc2c-cdc25fd7cbeb",
   "metadata": {},
   "source": [
    "# ANOVA"
   ]
  },
  {
   "cell_type": "markdown",
   "id": "1332fe12-377d-4967-b930-fcfe04fda492",
   "metadata": {},
   "source": [
    "### Autor\n",
    "\n",
    "Wiktoria Galarowicz"
   ]
  },
  {
   "cell_type": "markdown",
   "id": "f410b107-0514-41af-a70b-465ec64fe376",
   "metadata": {},
   "source": [
    "### Importowanie bibliotek"
   ]
  },
  {
   "cell_type": "code",
   "execution_count": 1,
   "id": "f995da0c-8815-4eb6-93d6-fad1fe0cbdb4",
   "metadata": {},
   "outputs": [],
   "source": [
    "import pandas as pd\n",
    "from dfply import *\n",
    "from matplotlib import pyplot as plt\n",
    "import seaborn as sns\n",
    "import statsmodels.api as sm\n",
    "from statsmodels.formula.api import ols\n",
    "from scipy.stats import shapiro, levene"
   ]
  },
  {
   "cell_type": "code",
   "execution_count": 2,
   "id": "3a1ef936-6744-48a7-bcf5-ddd9a198d52e",
   "metadata": {},
   "outputs": [],
   "source": [
    "import warnings\n",
    "warnings.filterwarnings(\"ignore\")\n",
    "\n",
    "np.set_printoptions(suppress=True)"
   ]
  },
  {
   "cell_type": "code",
   "execution_count": 3,
   "id": "53dd45f3-2085-461d-9f33-c4d722aa74a8",
   "metadata": {},
   "outputs": [
    {
     "data": {
      "text/html": [
       "<div>\n",
       "<style scoped>\n",
       "    .dataframe tbody tr th:only-of-type {\n",
       "        vertical-align: middle;\n",
       "    }\n",
       "\n",
       "    .dataframe tbody tr th {\n",
       "        vertical-align: top;\n",
       "    }\n",
       "\n",
       "    .dataframe thead th {\n",
       "        text-align: right;\n",
       "    }\n",
       "</style>\n",
       "<table border=\"1\" class=\"dataframe\">\n",
       "  <thead>\n",
       "    <tr style=\"text-align: right;\">\n",
       "      <th></th>\n",
       "      <th>czas</th>\n",
       "      <th>wiek  pielęgniarki</th>\n",
       "      <th>choroba</th>\n",
       "      <th>grupa</th>\n",
       "    </tr>\n",
       "  </thead>\n",
       "  <tbody>\n",
       "    <tr>\n",
       "      <th>1</th>\n",
       "      <td>20</td>\n",
       "      <td>I</td>\n",
       "      <td>kardiologiczna</td>\n",
       "      <td>1</td>\n",
       "    </tr>\n",
       "    <tr>\n",
       "      <th>2</th>\n",
       "      <td>25</td>\n",
       "      <td>I</td>\n",
       "      <td>kardiologiczna</td>\n",
       "      <td>1</td>\n",
       "    </tr>\n",
       "    <tr>\n",
       "      <th>3</th>\n",
       "      <td>22</td>\n",
       "      <td>I</td>\n",
       "      <td>kardiologiczna</td>\n",
       "      <td>1</td>\n",
       "    </tr>\n",
       "    <tr>\n",
       "      <th>4</th>\n",
       "      <td>27</td>\n",
       "      <td>I</td>\n",
       "      <td>kardiologiczna</td>\n",
       "      <td>1</td>\n",
       "    </tr>\n",
       "    <tr>\n",
       "      <th>5</th>\n",
       "      <td>21</td>\n",
       "      <td>I</td>\n",
       "      <td>kardiologiczna</td>\n",
       "      <td>1</td>\n",
       "    </tr>\n",
       "  </tbody>\n",
       "</table>\n",
       "</div>"
      ],
      "text/plain": [
       "   czas  wiek  pielęgniarki         choroba  grupa\n",
       "1     20                  I  kardiologiczna      1\n",
       "2     25                  I  kardiologiczna      1\n",
       "3     22                  I  kardiologiczna      1\n",
       "4     27                  I  kardiologiczna      1\n",
       "5     21                  I  kardiologiczna      1"
      ]
     },
     "execution_count": 3,
     "metadata": {},
     "output_type": "execute_result"
    }
   ],
   "source": [
    "dane = pd.read_excel('Dane.xlsx', sheet_name='dane', index_col = 0)\n",
    "dane.head()"
   ]
  },
  {
   "cell_type": "code",
   "execution_count": 4,
   "id": "dc7c2373-dc6e-4215-978c-acbe4c497182",
   "metadata": {},
   "outputs": [
    {
     "data": {
      "text/plain": [
       "['czas ', 'wiek  pielęgniarki', 'choroba', 'grupa']"
      ]
     },
     "execution_count": 4,
     "metadata": {},
     "output_type": "execute_result"
    }
   ],
   "source": [
    "list(dane) # nazwy kolumn"
   ]
  },
  {
   "cell_type": "code",
   "execution_count": 5,
   "id": "ed1810f2-3fc8-48ff-bebf-1b51ee0dfbf3",
   "metadata": {},
   "outputs": [],
   "source": [
    "dane.rename(columns={'czas ': 'czas', 'wiek  pielęgniarki': 'wiek_pielegniarki'}, inplace = True)"
   ]
  },
  {
   "cell_type": "code",
   "execution_count": 6,
   "id": "33d1e9dd-b856-44d4-9334-5b7ca19b8522",
   "metadata": {},
   "outputs": [
    {
     "name": "stdout",
     "output_type": "stream",
     "text": [
      "<class 'pandas.core.frame.DataFrame'>\n",
      "Int64Index: 80 entries, 1 to 80\n",
      "Data columns (total 4 columns):\n",
      " #   Column             Non-Null Count  Dtype \n",
      "---  ------             --------------  ----- \n",
      " 0   czas               80 non-null     int64 \n",
      " 1   wiek_pielegniarki  80 non-null     object\n",
      " 2   choroba            80 non-null     object\n",
      " 3   grupa              80 non-null     int64 \n",
      "dtypes: int64(2), object(2)\n",
      "memory usage: 3.1+ KB\n"
     ]
    }
   ],
   "source": [
    "dane.info()"
   ]
  },
  {
   "cell_type": "markdown",
   "id": "4ff2cd78-dbc0-481e-b8f8-5275123c22c5",
   "metadata": {},
   "source": [
    "Zmienna `czas` jest numeryczna (liczby całkowite), a zmienne `wiek pielęgniarki` i `choroba` są kategorialne.</br> \n",
    "Zmienna `grupa` została manualnie utworzona w excelu. </br> \n",
    "Nie ma braków danych. Zmienna zależna w analizie to `czas`."
   ]
  },
  {
   "cell_type": "code",
   "execution_count": 7,
   "id": "b314b18e-7fc4-41bc-b579-cc8e9ccf95e4",
   "metadata": {},
   "outputs": [],
   "source": [
    "dane['grupa'] = dane['grupa'].astype(object)"
   ]
  },
  {
   "cell_type": "markdown",
   "id": "42bc68c0-7e63-4d29-811d-24bd4b97ae94",
   "metadata": {},
   "source": [
    "Dla zmienne `grupa` konieczna była zmiana typu, ponieważ program zidentyfikował ją jako zmienna numeryczna, a jest to zmienna kategorialna."
   ]
  },
  {
   "cell_type": "code",
   "execution_count": 8,
   "id": "f2d941f3-7cfd-4085-ac45-6ca306e52cf6",
   "metadata": {},
   "outputs": [
    {
     "data": {
      "text/plain": [
       "czas                  int64\n",
       "wiek_pielegniarki    object\n",
       "choroba              object\n",
       "grupa                object\n",
       "dtype: object"
      ]
     },
     "execution_count": 8,
     "metadata": {},
     "output_type": "execute_result"
    }
   ],
   "source": [
    "dane.dtypes"
   ]
  },
  {
   "cell_type": "code",
   "execution_count": 9,
   "id": "c69d0603-6e42-4492-8a8f-53afb033ba2f",
   "metadata": {},
   "outputs": [],
   "source": [
    "grouped_data = dane.groupby(['choroba', 'wiek_pielegniarki'])"
   ]
  },
  {
   "cell_type": "code",
   "execution_count": 10,
   "id": "575e3ef2-fcb4-4029-8c4e-8d9580e57893",
   "metadata": {},
   "outputs": [
    {
     "name": "stdout",
     "output_type": "stream",
     "text": [
      "choroba         wiek_pielegniarki\n",
      "gruźlica        I                    20.0\n",
      "                II                   27.4\n",
      "                III                  25.6\n",
      "                IV                   28.8\n",
      "kardiologiczna  I                    23.0\n",
      "                II                   28.4\n",
      "                III                  26.2\n",
      "                IV                   29.2\n",
      "nowotworowa     I                    35.2\n",
      "                II                   30.0\n",
      "                III                  39.8\n",
      "                IV                   48.0\n",
      "udar            I                    33.2\n",
      "                II                   33.4\n",
      "                III                  40.2\n",
      "                IV                   46.4\n",
      "Name: czas, dtype: float64\n"
     ]
    }
   ],
   "source": [
    "average_by_group = grouped_data['czas'].mean()\n",
    "print(average_by_group)"
   ]
  },
  {
   "cell_type": "markdown",
   "id": "3303eef4-681e-4436-ace6-83d67c4d42c3",
   "metadata": {},
   "source": [
    "### Badanie normalaności"
   ]
  },
  {
   "cell_type": "markdown",
   "id": "bda48505-c2c2-4470-8220-03e01fa6bff9",
   "metadata": {},
   "source": [
    "W celu sprawdzenia, czy rozkład jest zbliżony do rozkładu normalnego wykonany zostanie test Shapiro-Wilka, w którym hipotezy są następujące: \n",
    "<p style='text-align: center;'> H0: Rozkład badanej zmiennej jest zbliżony do normalnego <br> H1: Rozkład zmiennej nie jest zbliżony do normalnego\n",
    "</p>\n",
    "\n",
    "Sprawdzamy normalność rozkładu dla każdej z grup zmiennej objaśniającej."
   ]
  },
  {
   "cell_type": "code",
   "execution_count": 11,
   "id": "b6453fdd-4460-4651-a642-bdb43c7dc3aa",
   "metadata": {},
   "outputs": [],
   "source": [
    "g = {}\n",
    "for i in range(1, 17):\n",
    "    g[i] = dane[dane['grupa'] == i]"
   ]
  },
  {
   "cell_type": "code",
   "execution_count": 12,
   "id": "c367d242-f93f-4039-ae78-0ba33abbcf42",
   "metadata": {},
   "outputs": [
    {
     "name": "stdout",
     "output_type": "stream",
     "text": [
      "P-value dla grupy 1: 0.5845787525177002\n",
      "P-value dla grupy 2: 0.24481956660747528\n",
      "P-value dla grupy 3: 0.1264229267835617\n",
      "P-value dla grupy 4: 0.3254301846027374\n",
      "P-value dla grupy 5: 0.1709563434123993\n",
      "P-value dla grupy 6: 0.3254301846027374\n",
      "P-value dla grupy 7: 0.25133123993873596\n",
      "P-value dla grupy 8: 0.6774504780769348\n",
      "P-value dla grupy 9: 0.20062367618083954\n",
      "P-value dla grupy 10: 0.38418078422546387\n",
      "P-value dla grupy 11: 0.6230623722076416\n",
      "P-value dla grupy 12: 0.42719900608062744\n",
      "P-value dla grupy 13: 0.898902952671051\n",
      "P-value dla grupy 14: 0.4924813508987427\n",
      "P-value dla grupy 15: 0.7314968109130859\n",
      "P-value dla grupy 16: 0.4211485683917999\n"
     ]
    }
   ],
   "source": [
    "for i in range(1, 17):\n",
    "    p_value = shapiro(g[i] >> select(X.czas)).pvalue\n",
    "    print(f'P-value dla grupy {i}: {p_value}')"
   ]
  },
  {
   "cell_type": "markdown",
   "id": "8200b9e5-40c9-49cd-806a-b25fcb80e530",
   "metadata": {},
   "source": [
    "Za każdym razem wartość p-value była wyższa niż przyjęty próg istotności a=0,05. Oznacza to, że nie ma podstaw do odrzucenia hipotezy zerowej mówiącej o rozkładzie badanej populacji zbliżonym do normalnego."
   ]
  },
  {
   "cell_type": "markdown",
   "id": "238a4cf6-8c93-4235-b63b-43c5f53cffde",
   "metadata": {},
   "source": [
    "### Homogeniczność wariancji w próbach"
   ]
  },
  {
   "cell_type": "markdown",
   "id": "b505fbbc-2f72-4f7d-a5d4-22a4edfa03a7",
   "metadata": {},
   "source": [
    "Do zbadania jednorodności wariancji w próbach wykorzystane zostaną dwa testy: Levene’a oraz Bartletta.\n",
    "<p style='text-align: center;'> H0: Rozkłady mają jednakowe wariancje (homogeniczność wariancji) <br> H1: Rozkłady nie mają jednakowych wariancji (heterogeniczność wariancji)\n",
    "</p>"
   ]
  },
  {
   "cell_type": "code",
   "execution_count": 13,
   "id": "6edd62fb-8a7f-4863-bfea-f3562cc75a7b",
   "metadata": {},
   "outputs": [
    {
     "name": "stdout",
     "output_type": "stream",
     "text": [
      "Test Levene'a:\n",
      "Wartość statystyki testu: 2.57708759024656\n",
      "P-value: 0.004504726903037861\n"
     ]
    }
   ],
   "source": [
    "gru = [g[i]['czas'] for i in range(1, 17)]\n",
    "\n",
    "stat, p = levene(*gru, center = 'mean')\n",
    "print('Test Levene\\'a:')\n",
    "print('Wartość statystyki testu:', stat)\n",
    "print('P-value:', p)"
   ]
  },
  {
   "cell_type": "markdown",
   "id": "e0f617a4-2c81-44ac-ab94-417d6d540db5",
   "metadata": {},
   "source": [
    "Na podstawie testu Levene'a należy odrzucić hipotezę zerową na rzecz hipotezy alternatywnej. Rozkłady nie mają jednakowej wariancji. </br>\n",
    "Zdecydowana się na wykonanie testu Brown'a Forsythe'a o takich samych hipotezach."
   ]
  },
  {
   "cell_type": "code",
   "execution_count": 14,
   "id": "d39bcf03-fa8f-4622-bcca-df5e71e3fb95",
   "metadata": {},
   "outputs": [
    {
     "name": "stdout",
     "output_type": "stream",
     "text": [
      "Test Brown'a Forsythe'a:\n",
      "Wartość statystyki testu: 1.2604927782497877\n",
      "P-value: 0.25341566364196844\n"
     ]
    }
   ],
   "source": [
    "gru = [g[i]['czas'] for i in range(1, 17)]\n",
    "\n",
    "stat, p = levene(*gru, center = 'median') \n",
    "print(\"Test Brown'a Forsythe'a:\")\n",
    "print('Wartość statystyki testu:', stat)\n",
    "print('P-value:', p)"
   ]
  },
  {
   "cell_type": "markdown",
   "id": "ef699198-73a1-45ce-a155-70c04ca0d111",
   "metadata": {},
   "source": [
    "Nie ma podstaw do odrzucenia hipotezy zerowej, czyli nie ma istotnych różnic w wariancji pomiędzy grupami."
   ]
  },
  {
   "cell_type": "markdown",
   "id": "d030dbcd-eb59-42a2-b181-0e99828e2e41",
   "metadata": {},
   "source": [
    "### ANOVA dwukierunkowa"
   ]
  },
  {
   "cell_type": "markdown",
   "id": "3176df4a-e5af-42c0-9f21-e2cdb8a246d0",
   "metadata": {},
   "source": [
    "<p style='text-align: center;'> \n",
    "    H0a: Średni czas pracy poświęcony na indywidualne wizyty domowe jest taki sam w każdej grupie wiekowej pielęgniarek<br> <br>\n",
    "    H0b: Średni czas pracy poświęcony na indywidualne wizyty domowe jest taki sam w każdej z grup chorób <br> <br>\n",
    "    H0c: Nie ma interakcji pomiędzy grupą wiekową pielęgniarki a chorobą badanych osób mającą wpływ na czas poświęcony na indywidualne wizyty domowe\n",
    "</p>"
   ]
  },
  {
   "cell_type": "code",
   "execution_count": 15,
   "id": "0366db77-9cbd-4773-aae3-a697bf33bc7e",
   "metadata": {},
   "outputs": [
    {
     "data": {
      "text/plain": [
       "<Figure size 640x480 with 0 Axes>"
      ]
     },
     "metadata": {},
     "output_type": "display_data"
    },
    {
     "data": {
      "image/png": "[encoded data removed]",
      "text/plain": [
       "<Figure size 1118.83x700 with 1 Axes>"
      ]
     },
     "metadata": {},
     "output_type": "display_data"
    }
   ],
   "source": [
    "plt.clf()\n",
    "colo = ['gray', 'red', 'blue', 'yellow']\n",
    "\n",
    "sns.set(font_scale=1.5)\n",
    "sns.factorplot(x='choroba',\n",
    "            y = 'czas', \n",
    "            hue='wiek_pielegniarki',\n",
    "            data=dane, \n",
    "            palette=colo, \n",
    "            height=7,\n",
    "            aspect=1.3)\n",
    "\n",
    "plt.show()"
   ]
  },
  {
   "cell_type": "code",
   "execution_count": 16,
   "id": "b27e36c5-5102-4f63-894e-314f62b5474c",
   "metadata": {},
   "outputs": [
    {
     "data": {
      "text/html": [
       "<style type=\"text/css\">\n",
       "</style>\n",
       "<table id=\"T_d3e39\">\n",
       "  <thead>\n",
       "    <tr>\n",
       "      <th class=\"blank level0\" >&nbsp;</th>\n",
       "      <th id=\"T_d3e39_level0_col0\" class=\"col_heading level0 col0\" >sum_sq</th>\n",
       "      <th id=\"T_d3e39_level0_col1\" class=\"col_heading level0 col1\" >df</th>\n",
       "      <th id=\"T_d3e39_level0_col2\" class=\"col_heading level0 col2\" >F</th>\n",
       "      <th id=\"T_d3e39_level0_col3\" class=\"col_heading level0 col3\" >PR(>F)</th>\n",
       "    </tr>\n",
       "  </thead>\n",
       "  <tbody>\n",
       "    <tr>\n",
       "      <th id=\"T_d3e39_level0_row0\" class=\"row_heading level0 row0\" >C(wiek_pielegniarki)</th>\n",
       "      <td id=\"T_d3e39_row0_col0\" class=\"data row0 col0\" >1201.05000</td>\n",
       "      <td id=\"T_d3e39_row0_col1\" class=\"data row0 col1\" >3.00000</td>\n",
       "      <td id=\"T_d3e39_row0_col2\" class=\"data row0 col2\" >27.26948</td>\n",
       "      <td id=\"T_d3e39_row0_col3\" class=\"data row0 col3\" >0.00000</td>\n",
       "    </tr>\n",
       "    <tr>\n",
       "      <th id=\"T_d3e39_level0_row1\" class=\"row_heading level0 row1\" >C(choroba)</th>\n",
       "      <td id=\"T_d3e39_row1_col0\" class=\"data row1 col0\" >2992.45000</td>\n",
       "      <td id=\"T_d3e39_row1_col1\" class=\"data row1 col1\" >3.00000</td>\n",
       "      <td id=\"T_d3e39_row1_col2\" class=\"data row1 col2\" >67.94267</td>\n",
       "      <td id=\"T_d3e39_row1_col3\" class=\"data row1 col3\" >0.00000</td>\n",
       "    </tr>\n",
       "    <tr>\n",
       "      <th id=\"T_d3e39_level0_row2\" class=\"row_heading level0 row2\" >C(wiek_pielegniarki):C(choroba)</th>\n",
       "      <td id=\"T_d3e39_row2_col0\" class=\"data row2 col0\" >608.45000</td>\n",
       "      <td id=\"T_d3e39_row2_col1\" class=\"data row2 col1\" >9.00000</td>\n",
       "      <td id=\"T_d3e39_row2_col2\" class=\"data row2 col2\" >4.60489</td>\n",
       "      <td id=\"T_d3e39_row2_col3\" class=\"data row2 col3\" >0.00010</td>\n",
       "    </tr>\n",
       "    <tr>\n",
       "      <th id=\"T_d3e39_level0_row3\" class=\"row_heading level0 row3\" >Residual</th>\n",
       "      <td id=\"T_d3e39_row3_col0\" class=\"data row3 col0\" >939.60000</td>\n",
       "      <td id=\"T_d3e39_row3_col1\" class=\"data row3 col1\" >64.00000</td>\n",
       "      <td id=\"T_d3e39_row3_col2\" class=\"data row3 col2\" >nan</td>\n",
       "      <td id=\"T_d3e39_row3_col3\" class=\"data row3 col3\" >nan</td>\n",
       "    </tr>\n",
       "  </tbody>\n",
       "</table>\n"
      ],
      "text/plain": [
       "<pandas.io.formats.style.Styler at 0x26398bca220>"
      ]
     },
     "execution_count": 16,
     "metadata": {},
     "output_type": "execute_result"
    }
   ],
   "source": [
    "model = ols(\n",
    "    'czas ~ C(wiek_pielegniarki) + C(choroba) +\\\n",
    "    C(wiek_pielegniarki):C(choroba)', data=dane).fit()\n",
    "anova = sm.stats.anova_lm(model, typ=2)\n",
    "anova\n",
    "anova.style.format('{:.5f}')"
   ]
  },
  {
   "cell_type": "markdown",
   "id": "91739eba-ba08-4b53-aebd-f23c881ffaf9",
   "metadata": {},
   "source": [
    "Odrzucamy hipotezę H0a: Istnieją znaczące różnice pomiędzy grupami wiekowymi pielęgniarek (F = 27,27, p=0,0000000000176, p <0,01).</br></br>\n",
    "Odrzucamy hipotezę H0b: Istnieją znaczące różnice pomiędzy grupami chorób (F = 67,94, p=0,000000000000000000072, p <0,01).</br></br>\n",
    "Odrzucamy hipotezę H0c: Jest efekt interakcji (F = 4,6, p=0,00010)."
   ]
  },
  {
   "cell_type": "code",
   "execution_count": null,
   "id": "1c6f18b6-2ec3-4cf2-8232-064566437824",
   "metadata": {},
   "outputs": [],
   "source": []
  }
 ],
 "metadata": {
  "kernelspec": {
   "display_name": "Python 3 (ipykernel)",
   "language": "python",
   "name": "python3"
  },
  "language_info": {
   "codemirror_mode": {
    "name": "ipython",
    "version": 3
   },
   "file_extension": ".py",
   "mimetype": "text/x-python",
   "name": "python",
   "nbconvert_exporter": "python",
   "pygments_lexer": "ipython3",
   "version": "3.9.13"
  }
 },
 "nbformat": 4,
 "nbformat_minor": 5
}
