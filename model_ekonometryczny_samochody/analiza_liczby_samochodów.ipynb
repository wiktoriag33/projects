{
 "cells": [
  {
   "cell_type": "markdown",
   "id": "cb9d1ce1-1352-4de0-90a4-ebe1d432404d",
   "metadata": {},
   "source": [
    "# Badanie liczby samochodów osobowych w Polsce w 2021 roku  z wykorzystaniem modelowania ekonometrycznego"
   ]
  },
  {
   "cell_type": "markdown",
   "id": "7bea8568-ad67-40e2-a1de-4381b5c48edb",
   "metadata": {
    "tags": []
   },
   "source": [
    "#### Autorzy:\n",
    "* Magdalena Biczak\n",
    "* Wiktoria Galarowicz\n"
   ]
  },
  {
   "cell_type": "markdown",
   "id": "9ffc97bd-77b2-4de7-be10-c77413c67178",
   "metadata": {},
   "source": [
    "#### Wstęp i cel badania"
   ]
  },
  {
   "cell_type": "markdown",
   "id": "8110839b-7271-4517-976a-42732f6bd347",
   "metadata": {},
   "source": [
    "Niniejsza praca badawcza poświęcona jest sprawdzeniu czy czynniki takie jakdługość dróg rowerowych, długość lini kolejowych, </br>\n",
    "długość dróg ekspresowych i autostrad, liczba ofiar śmiertelnych, przeciętne miesięczne wynagrodzenie brutto, liczba miejsc noclegowych </br>\n",
    "i położenie we wschodniej części Polski wpływają na kształtowanie się liczby samochodów osobowych w 2021 roku w Polsce. </br>\n",
    "Poniżej przeanalizowane zjawisko dotyczy aktualnych aspektów ludzkiego życia we współczesnym świecie."
   ]
  },
  {
   "cell_type": "markdown",
   "id": "f52793a7-4cf9-44f2-bb3e-e8485a371b97",
   "metadata": {},
   "source": [
    "#### Pytania badawcze"
   ]
  },
  {
   "cell_type": "markdown",
   "id": "8ed283ec-71dc-489f-9f05-789e53e5f22f",
   "metadata": {},
   "source": [
    "1. Jak kształtują się średnie wartości zmiennej: liczba samochodów osobowych w podziale na wschodnią oraz zachodnią część Polski?\n",
    "    w podziale na wschodnią i zachodnią część kraju\n",
    "2. Czy można zaobserowować korelacje między zmiennymi?\n",
    "3. Jak prezentuje się postać liniowego modelu ekonometrycznego?\n",
    "4. Czy oszacowane modele są istotne?\n",
    "5. Czy reszty modeli mają rozkład normalny?\n"
   ]
  },
  {
   "cell_type": "markdown",
   "id": "ea20b99e-dbed-4330-b0e0-3e69b6b4e5c1",
   "metadata": {},
   "source": [
    "#### Opis danych"
   ]
  },
  {
   "cell_type": "markdown",
   "id": "e3ce3643-4d0a-4121-be01-16f5c559662b",
   "metadata": {},
   "source": [
    "Wykorzystane w analizie dane podzielone są na województwa. </br>\n",
    "W związku z tak określonym problemem badawczym zmienną objaśniającą</br> \n",
    "jest Y- liczba samochodów osobowych, a zmiennymi objaśniającymi kolejno wymienione czynniki:\n",
    "* `drogi_dla_rowerów` - długość dróg rowerowych w kilometrach na 100 km^2\n",
    "* `linie_kolejowe` - długość lini kolejowych w kilometrach na 100 km^2\n",
    "* `drogi_ekspresowe_i_autostrady` - długość dróg espresowych i autostrad w kilometrach na 100 km^2\n",
    "* `ofiary_śmiertelne` - liczba ofiar śmiertelnych na 100 tys. pojazdów\n",
    "* `przeciętne_wynagrodzenie` - średnie miesięczne wynagrodzenie brutto w zł\n",
    "* `miejsca_noclegowe` - liczba miejsc noclegowych na tysiąc ludności\n",
    "* `ściana_wschodnia` - czy województwo znajduje się na wschodzie kraju\n",
    "\n",
    "Wykorzystane dane przekrojowe pochodzą z internetowych baz danych Głównego Urzędu Statystycznego. Są one wiarygodne, kompletne i rzetelne."
   ]
  },
  {
   "cell_type": "markdown",
   "id": "93ddfbcb-4793-4c44-912e-e0b9cd60318e",
   "metadata": {},
   "source": [
    "#### Importowanie bibliotek"
   ]
  },
  {
   "cell_type": "code",
   "execution_count": 1,
   "id": "3df6abf5-fada-436e-9346-5d6437cd8c49",
   "metadata": {},
   "outputs": [],
   "source": [
    "import pandas as pd\n",
    "from matplotlib import pyplot as plt\n",
    "import seaborn as sns\n",
    "import statsmodels.api as sm"
   ]
  },
  {
   "cell_type": "markdown",
   "id": "1762e144-939a-4979-abce-85b52d59606b",
   "metadata": {},
   "source": [
    "#### Importowanie danych\n",
    "Ustawienie nazw województw jako nazwy wierszy"
   ]
  },
  {
   "cell_type": "code",
   "execution_count": 2,
   "id": "b7ad8190-5264-473c-8f36-3e6910a76058",
   "metadata": {
    "tags": []
   },
   "outputs": [
    {
     "data": {
      "text/html": [
       "<div>\n",
       "<style scoped>\n",
       "    .dataframe tbody tr th:only-of-type {\n",
       "        vertical-align: middle;\n",
       "    }\n",
       "\n",
       "    .dataframe tbody tr th {\n",
       "        vertical-align: top;\n",
       "    }\n",
       "\n",
       "    .dataframe thead th {\n",
       "        text-align: right;\n",
       "    }\n",
       "</style>\n",
       "<table border=\"1\" class=\"dataframe\">\n",
       "  <thead>\n",
       "    <tr style=\"text-align: right;\">\n",
       "      <th></th>\n",
       "      <th>liczba_samochodów</th>\n",
       "      <th>drogi_dla_rowerów</th>\n",
       "      <th>linie_kolejowe</th>\n",
       "      <th>drogi_ekspresowe_i_autostrady</th>\n",
       "      <th>ofiary_śmiertelne</th>\n",
       "      <th>przeciętne_wynagrodzenie</th>\n",
       "      <th>miejsca_noclegowe</th>\n",
       "      <th>ściana_wschodnia</th>\n",
       "    </tr>\n",
       "  </thead>\n",
       "  <tbody>\n",
       "    <tr>\n",
       "      <th>DOLNOŚLĄSKIE</th>\n",
       "      <td>699.4</td>\n",
       "      <td>5.43</td>\n",
       "      <td>8.9</td>\n",
       "      <td>2.19</td>\n",
       "      <td>7.08</td>\n",
       "      <td>6242.88</td>\n",
       "      <td>24.52</td>\n",
       "      <td>NIE</td>\n",
       "    </tr>\n",
       "    <tr>\n",
       "      <th>KUJAWSKO-POMORSKIE</th>\n",
       "      <td>680.4</td>\n",
       "      <td>7.69</td>\n",
       "      <td>6.7</td>\n",
       "      <td>1.52</td>\n",
       "      <td>6.75</td>\n",
       "      <td>5286.83</td>\n",
       "      <td>15.37</td>\n",
       "      <td>NIE</td>\n",
       "    </tr>\n",
       "    <tr>\n",
       "      <th>LUBELSKIE</th>\n",
       "      <td>683.6</td>\n",
       "      <td>4.38</td>\n",
       "      <td>4.4</td>\n",
       "      <td>0.83</td>\n",
       "      <td>6.88</td>\n",
       "      <td>5318.68</td>\n",
       "      <td>12.60</td>\n",
       "      <td>TAK</td>\n",
       "    </tr>\n",
       "    <tr>\n",
       "      <th>LUBUSKIE</th>\n",
       "      <td>742.5</td>\n",
       "      <td>5.32</td>\n",
       "      <td>6.5</td>\n",
       "      <td>1.84</td>\n",
       "      <td>7.54</td>\n",
       "      <td>5286.50</td>\n",
       "      <td>17.65</td>\n",
       "      <td>NIE</td>\n",
       "    </tr>\n",
       "    <tr>\n",
       "      <th>ŁÓDZKIE</th>\n",
       "      <td>698.0</td>\n",
       "      <td>5.73</td>\n",
       "      <td>5.9</td>\n",
       "      <td>2.73</td>\n",
       "      <td>8.49</td>\n",
       "      <td>5622.29</td>\n",
       "      <td>9.06</td>\n",
       "      <td>NIE</td>\n",
       "    </tr>\n",
       "  </tbody>\n",
       "</table>\n",
       "</div>"
      ],
      "text/plain": [
       "                    liczba_samochodów  drogi_dla_rowerów  linie_kolejowe  \\\n",
       "DOLNOŚLĄSKIE                    699.4               5.43             8.9   \n",
       "KUJAWSKO-POMORSKIE              680.4               7.69             6.7   \n",
       "LUBELSKIE                       683.6               4.38             4.4   \n",
       "LUBUSKIE                        742.5               5.32             6.5   \n",
       "ŁÓDZKIE                         698.0               5.73             5.9   \n",
       "\n",
       "                    drogi_ekspresowe_i_autostrady  ofiary_śmiertelne  \\\n",
       "DOLNOŚLĄSKIE                                 2.19               7.08   \n",
       "KUJAWSKO-POMORSKIE                           1.52               6.75   \n",
       "LUBELSKIE                                    0.83               6.88   \n",
       "LUBUSKIE                                     1.84               7.54   \n",
       "ŁÓDZKIE                                      2.73               8.49   \n",
       "\n",
       "                    przeciętne_wynagrodzenie  miejsca_noclegowe  \\\n",
       "DOLNOŚLĄSKIE                         6242.88              24.52   \n",
       "KUJAWSKO-POMORSKIE                   5286.83              15.37   \n",
       "LUBELSKIE                            5318.68              12.60   \n",
       "LUBUSKIE                             5286.50              17.65   \n",
       "ŁÓDZKIE                              5622.29               9.06   \n",
       "\n",
       "                   ściana_wschodnia  \n",
       "DOLNOŚLĄSKIE                    NIE  \n",
       "KUJAWSKO-POMORSKIE              NIE  \n",
       "LUBELSKIE                       TAK  \n",
       "LUBUSKIE                        NIE  \n",
       "ŁÓDZKIE                         NIE  "
      ]
     },
     "execution_count": 2,
     "metadata": {},
     "output_type": "execute_result"
    }
   ],
   "source": [
    "data = pd.read_excel('dane.xlsx', index_col=0)\n",
    "data.head()"
   ]
  },
  {
   "cell_type": "markdown",
   "id": "dd2d4d65-ac7f-422c-a402-b86dd0474774",
   "metadata": {},
   "source": [
    "### Informacje o ramce"
   ]
  },
  {
   "cell_type": "markdown",
   "id": "94c04a0b-5789-4115-8623-80ba7e66428a",
   "metadata": {},
   "source": [
    "#### Sprawdzenie typu"
   ]
  },
  {
   "cell_type": "code",
   "execution_count": 3,
   "id": "4395cdd1-37ec-4b8d-be23-e140c321da82",
   "metadata": {},
   "outputs": [
    {
     "data": {
      "text/plain": [
       "pandas.core.frame.DataFrame"
      ]
     },
     "execution_count": 3,
     "metadata": {},
     "output_type": "execute_result"
    }
   ],
   "source": [
    "type(data)"
   ]
  },
  {
   "cell_type": "markdown",
   "id": "4f9c6c7f-30f0-4364-bc58-63dbc357a63a",
   "metadata": {
    "tags": []
   },
   "source": [
    "Typ obiektu to ramka (DataFrame)."
   ]
  },
  {
   "cell_type": "markdown",
   "id": "a31882ec-8adb-4530-a38a-7ef00d3a02ab",
   "metadata": {},
   "source": [
    "#### Sprawdzenie wymiarów ramki"
   ]
  },
  {
   "cell_type": "code",
   "execution_count": 4,
   "id": "850805cf-55d3-4975-b3cf-63ebde3abd60",
   "metadata": {},
   "outputs": [
    {
     "data": {
      "text/plain": [
       "(16, 8)"
      ]
     },
     "execution_count": 4,
     "metadata": {},
     "output_type": "execute_result"
    }
   ],
   "source": [
    "data.shape"
   ]
  },
  {
   "cell_type": "markdown",
   "id": "621643ac-aafc-4d8d-bb08-f06e31367eae",
   "metadata": {},
   "source": [
    "Ramka składa się z szesnastu wierszy i ośmiu kolumn."
   ]
  },
  {
   "cell_type": "markdown",
   "id": "87d6f56f-3ab4-4675-832e-3ed9ca371508",
   "metadata": {},
   "source": [
    "#### Zestawienie informacji o ramce"
   ]
  },
  {
   "cell_type": "code",
   "execution_count": 5,
   "id": "8b3a962e-31bd-434d-bd03-5acd9edc14d2",
   "metadata": {},
   "outputs": [
    {
     "name": "stdout",
     "output_type": "stream",
     "text": [
      "<class 'pandas.core.frame.DataFrame'>\n",
      "Index: 16 entries, DOLNOŚLĄSKIE to ZACHODNIOPOMORSKIE\n",
      "Data columns (total 8 columns):\n",
      " #   Column                         Non-Null Count  Dtype  \n",
      "---  ------                         --------------  -----  \n",
      " 0   liczba_samochodów              16 non-null     float64\n",
      " 1   drogi_dla_rowerów              16 non-null     float64\n",
      " 2   linie_kolejowe                 16 non-null     float64\n",
      " 3   drogi_ekspresowe_i_autostrady  16 non-null     float64\n",
      " 4   ofiary_śmiertelne              16 non-null     float64\n",
      " 5   przeciętne_wynagrodzenie       16 non-null     float64\n",
      " 6   miejsca_noclegowe              16 non-null     float64\n",
      " 7   ściana_wschodnia               16 non-null     object \n",
      "dtypes: float64(7), object(1)\n",
      "memory usage: 1.1+ KB\n"
     ]
    }
   ],
   "source": [
    "data.info()"
   ]
  },
  {
   "cell_type": "markdown",
   "id": "5c17dd07-7f38-4daa-a3c9-909de6858b26",
   "metadata": {},
   "source": [
    " W ramce nie ma braków danych. </br> \n",
    "Tylko jedna zmienna ma typ object - jest to zmienna kategorialna.</br> \n",
    "Pozostałe zmienne mają typ float, czyli liczby zmiennoprzecinkowe.</br> \n",
    "Ramka składa się z 16 wierszy (województwa: pierwszy rekord to: Dolnośląskie, a ostatni - Zachodniopomorskie).\n"
   ]
  },
  {
   "cell_type": "markdown",
   "id": "1fb719e1-2015-4cd8-8e93-bce0e951de1b",
   "metadata": {},
   "source": [
    "#### Wyświetlenie nazw kolumn"
   ]
  },
  {
   "cell_type": "code",
   "execution_count": 6,
   "id": "d1e5de4f-e6cb-4b0e-8c53-855166793a01",
   "metadata": {},
   "outputs": [
    {
     "data": {
      "text/plain": [
       "Index(['liczba_samochodów', 'drogi_dla_rowerów', 'linie_kolejowe',\n",
       "       'drogi_ekspresowe_i_autostrady', 'ofiary_śmiertelne',\n",
       "       'przeciętne_wynagrodzenie', 'miejsca_noclegowe', 'ściana_wschodnia'],\n",
       "      dtype='object')"
      ]
     },
     "execution_count": 6,
     "metadata": {},
     "output_type": "execute_result"
    }
   ],
   "source": [
    "data.columns"
   ]
  },
  {
   "cell_type": "markdown",
   "id": "f8eca6e8-015c-4976-ad49-1da91faed9e4",
   "metadata": {},
   "source": [
    "Nazwy kolumn to po kolei: </br> \n",
    "`liczba_samochodów`, `drogi_dla_rowerów`, `linie_kolejowe`, `drogi_ekspresowe_i_autostrady`, </br>\n",
    "`ofiary_śmiertelne`, `przeciętne_wynagrodzenie`, `miejsca_noclegowe`, `ściana_wschodnia`."
   ]
  },
  {
   "cell_type": "markdown",
   "id": "9a4a59a1-5c4e-49c6-9d4a-f8ae63d60812",
   "metadata": {},
   "source": [
    "#### Wyświetlenie nazw wierszy"
   ]
  },
  {
   "cell_type": "code",
   "execution_count": 7,
   "id": "065de230-d3cf-4de5-b024-d670e2512990",
   "metadata": {},
   "outputs": [
    {
     "data": {
      "text/plain": [
       "Index(['DOLNOŚLĄSKIE', 'KUJAWSKO-POMORSKIE', 'LUBELSKIE', 'LUBUSKIE',\n",
       "       'ŁÓDZKIE', 'MAŁOPOLSKIE', 'MAZOWIECKIE', 'OPOLSKIE', 'PODKARPACKIE',\n",
       "       'PODLASKIE', 'POMORSKIE', 'ŚLĄSKIE', 'ŚWIĘTOKRZYSKIE',\n",
       "       'WARMIŃSKO-MAZURSKIE', 'WIELKOPOLSKIE', 'ZACHODNIOPOMORSKIE'],\n",
       "      dtype='object')"
      ]
     },
     "execution_count": 7,
     "metadata": {},
     "output_type": "execute_result"
    }
   ],
   "source": [
    "data.index"
   ]
  },
  {
   "cell_type": "markdown",
   "id": "058439c0-dc29-409b-aeaa-a6776df7629c",
   "metadata": {},
   "source": [
    "Nazwami wierszy są województwa."
   ]
  },
  {
   "cell_type": "markdown",
   "id": "99bef96f-e841-46c7-b8d8-5060de90f758",
   "metadata": {},
   "source": [
    "#### Zmiana nazw wierszy"
   ]
  },
  {
   "cell_type": "code",
   "execution_count": 8,
   "id": "a66bd302-e41b-4c9a-a657-768ccd713737",
   "metadata": {},
   "outputs": [],
   "source": [
    "woj = ['Dolnośląskie', 'Kujawsko-Pomorskie', 'Lubelskie', 'Lubuskie', 'Łódzkie', 'Małopolskie', 'Mazowieckie', 'Opolskie', \n",
    "       'Podkarpackie', 'Podlaskie', 'Pomorskie', 'Śląskie','Świętokrzyskie', 'Warmińsko-Mazurskie','Wielkopolskie',\n",
    "       'Zachodniopomorskie']"
   ]
  },
  {
   "cell_type": "code",
   "execution_count": 9,
   "id": "6b4455d1-e54e-4763-ab2d-82496c04fa37",
   "metadata": {},
   "outputs": [
    {
     "data": {
      "text/html": [
       "<div>\n",
       "<style scoped>\n",
       "    .dataframe tbody tr th:only-of-type {\n",
       "        vertical-align: middle;\n",
       "    }\n",
       "\n",
       "    .dataframe tbody tr th {\n",
       "        vertical-align: top;\n",
       "    }\n",
       "\n",
       "    .dataframe thead th {\n",
       "        text-align: right;\n",
       "    }\n",
       "</style>\n",
       "<table border=\"1\" class=\"dataframe\">\n",
       "  <thead>\n",
       "    <tr style=\"text-align: right;\">\n",
       "      <th></th>\n",
       "      <th>liczba_samochodów</th>\n",
       "      <th>drogi_dla_rowerów</th>\n",
       "      <th>linie_kolejowe</th>\n",
       "      <th>drogi_ekspresowe_i_autostrady</th>\n",
       "      <th>ofiary_śmiertelne</th>\n",
       "      <th>przeciętne_wynagrodzenie</th>\n",
       "      <th>miejsca_noclegowe</th>\n",
       "      <th>ściana_wschodnia</th>\n",
       "    </tr>\n",
       "  </thead>\n",
       "  <tbody>\n",
       "    <tr>\n",
       "      <th>Dolnośląskie</th>\n",
       "      <td>699.4</td>\n",
       "      <td>5.43</td>\n",
       "      <td>8.9</td>\n",
       "      <td>2.19</td>\n",
       "      <td>7.08</td>\n",
       "      <td>6242.88</td>\n",
       "      <td>24.52</td>\n",
       "      <td>NIE</td>\n",
       "    </tr>\n",
       "    <tr>\n",
       "      <th>Kujawsko-Pomorskie</th>\n",
       "      <td>680.4</td>\n",
       "      <td>7.69</td>\n",
       "      <td>6.7</td>\n",
       "      <td>1.52</td>\n",
       "      <td>6.75</td>\n",
       "      <td>5286.83</td>\n",
       "      <td>15.37</td>\n",
       "      <td>NIE</td>\n",
       "    </tr>\n",
       "    <tr>\n",
       "      <th>Lubelskie</th>\n",
       "      <td>683.6</td>\n",
       "      <td>4.38</td>\n",
       "      <td>4.4</td>\n",
       "      <td>0.83</td>\n",
       "      <td>6.88</td>\n",
       "      <td>5318.68</td>\n",
       "      <td>12.60</td>\n",
       "      <td>TAK</td>\n",
       "    </tr>\n",
       "    <tr>\n",
       "      <th>Lubuskie</th>\n",
       "      <td>742.5</td>\n",
       "      <td>5.32</td>\n",
       "      <td>6.5</td>\n",
       "      <td>1.84</td>\n",
       "      <td>7.54</td>\n",
       "      <td>5286.50</td>\n",
       "      <td>17.65</td>\n",
       "      <td>NIE</td>\n",
       "    </tr>\n",
       "    <tr>\n",
       "      <th>Łódzkie</th>\n",
       "      <td>698.0</td>\n",
       "      <td>5.73</td>\n",
       "      <td>5.9</td>\n",
       "      <td>2.73</td>\n",
       "      <td>8.49</td>\n",
       "      <td>5622.29</td>\n",
       "      <td>9.06</td>\n",
       "      <td>NIE</td>\n",
       "    </tr>\n",
       "  </tbody>\n",
       "</table>\n",
       "</div>"
      ],
      "text/plain": [
       "                    liczba_samochodów  drogi_dla_rowerów  linie_kolejowe  \\\n",
       "Dolnośląskie                    699.4               5.43             8.9   \n",
       "Kujawsko-Pomorskie              680.4               7.69             6.7   \n",
       "Lubelskie                       683.6               4.38             4.4   \n",
       "Lubuskie                        742.5               5.32             6.5   \n",
       "Łódzkie                         698.0               5.73             5.9   \n",
       "\n",
       "                    drogi_ekspresowe_i_autostrady  ofiary_śmiertelne  \\\n",
       "Dolnośląskie                                 2.19               7.08   \n",
       "Kujawsko-Pomorskie                           1.52               6.75   \n",
       "Lubelskie                                    0.83               6.88   \n",
       "Lubuskie                                     1.84               7.54   \n",
       "Łódzkie                                      2.73               8.49   \n",
       "\n",
       "                    przeciętne_wynagrodzenie  miejsca_noclegowe  \\\n",
       "Dolnośląskie                         6242.88              24.52   \n",
       "Kujawsko-Pomorskie                   5286.83              15.37   \n",
       "Lubelskie                            5318.68              12.60   \n",
       "Lubuskie                             5286.50              17.65   \n",
       "Łódzkie                              5622.29               9.06   \n",
       "\n",
       "                   ściana_wschodnia  \n",
       "Dolnośląskie                    NIE  \n",
       "Kujawsko-Pomorskie              NIE  \n",
       "Lubelskie                       TAK  \n",
       "Lubuskie                        NIE  \n",
       "Łódzkie                         NIE  "
      ]
     },
     "execution_count": 9,
     "metadata": {},
     "output_type": "execute_result"
    }
   ],
   "source": [
    "data.index = woj\n",
    "data.head()"
   ]
  },
  {
   "cell_type": "markdown",
   "id": "c9b777d1-2858-41b3-acd0-b223f08b17c6",
   "metadata": {},
   "source": [
    "Nazwam kolumn są nazwy województw zaczynające się wielką literą."
   ]
  },
  {
   "cell_type": "markdown",
   "id": "b4f28e0d-08b6-495a-8137-47b19102eefe",
   "metadata": {},
   "source": [
    "#### Zmiana nazwy kolumny z **lczba_samochodów** na **samochody_osobowe**"
   ]
  },
  {
   "cell_type": "code",
   "execution_count": 10,
   "id": "6cf62ad0-0dcb-4347-8a4b-fd92efa58278",
   "metadata": {},
   "outputs": [
    {
     "data": {
      "text/html": [
       "<div>\n",
       "<style scoped>\n",
       "    .dataframe tbody tr th:only-of-type {\n",
       "        vertical-align: middle;\n",
       "    }\n",
       "\n",
       "    .dataframe tbody tr th {\n",
       "        vertical-align: top;\n",
       "    }\n",
       "\n",
       "    .dataframe thead th {\n",
       "        text-align: right;\n",
       "    }\n",
       "</style>\n",
       "<table border=\"1\" class=\"dataframe\">\n",
       "  <thead>\n",
       "    <tr style=\"text-align: right;\">\n",
       "      <th></th>\n",
       "      <th>samochody_osobowe</th>\n",
       "      <th>drogi_dla_rowerów</th>\n",
       "      <th>linie_kolejowe</th>\n",
       "      <th>drogi_ekspresowe_i_autostrady</th>\n",
       "      <th>ofiary_śmiertelne</th>\n",
       "      <th>przeciętne_wynagrodzenie</th>\n",
       "      <th>miejsca_noclegowe</th>\n",
       "      <th>ściana_wschodnia</th>\n",
       "    </tr>\n",
       "  </thead>\n",
       "  <tbody>\n",
       "    <tr>\n",
       "      <th>Dolnośląskie</th>\n",
       "      <td>699.4</td>\n",
       "      <td>5.43</td>\n",
       "      <td>8.9</td>\n",
       "      <td>2.19</td>\n",
       "      <td>7.08</td>\n",
       "      <td>6242.88</td>\n",
       "      <td>24.52</td>\n",
       "      <td>NIE</td>\n",
       "    </tr>\n",
       "    <tr>\n",
       "      <th>Kujawsko-Pomorskie</th>\n",
       "      <td>680.4</td>\n",
       "      <td>7.69</td>\n",
       "      <td>6.7</td>\n",
       "      <td>1.52</td>\n",
       "      <td>6.75</td>\n",
       "      <td>5286.83</td>\n",
       "      <td>15.37</td>\n",
       "      <td>NIE</td>\n",
       "    </tr>\n",
       "    <tr>\n",
       "      <th>Lubelskie</th>\n",
       "      <td>683.6</td>\n",
       "      <td>4.38</td>\n",
       "      <td>4.4</td>\n",
       "      <td>0.83</td>\n",
       "      <td>6.88</td>\n",
       "      <td>5318.68</td>\n",
       "      <td>12.60</td>\n",
       "      <td>TAK</td>\n",
       "    </tr>\n",
       "    <tr>\n",
       "      <th>Lubuskie</th>\n",
       "      <td>742.5</td>\n",
       "      <td>5.32</td>\n",
       "      <td>6.5</td>\n",
       "      <td>1.84</td>\n",
       "      <td>7.54</td>\n",
       "      <td>5286.50</td>\n",
       "      <td>17.65</td>\n",
       "      <td>NIE</td>\n",
       "    </tr>\n",
       "    <tr>\n",
       "      <th>Łódzkie</th>\n",
       "      <td>698.0</td>\n",
       "      <td>5.73</td>\n",
       "      <td>5.9</td>\n",
       "      <td>2.73</td>\n",
       "      <td>8.49</td>\n",
       "      <td>5622.29</td>\n",
       "      <td>9.06</td>\n",
       "      <td>NIE</td>\n",
       "    </tr>\n",
       "  </tbody>\n",
       "</table>\n",
       "</div>"
      ],
      "text/plain": [
       "                    samochody_osobowe  drogi_dla_rowerów  linie_kolejowe  \\\n",
       "Dolnośląskie                    699.4               5.43             8.9   \n",
       "Kujawsko-Pomorskie              680.4               7.69             6.7   \n",
       "Lubelskie                       683.6               4.38             4.4   \n",
       "Lubuskie                        742.5               5.32             6.5   \n",
       "Łódzkie                         698.0               5.73             5.9   \n",
       "\n",
       "                    drogi_ekspresowe_i_autostrady  ofiary_śmiertelne  \\\n",
       "Dolnośląskie                                 2.19               7.08   \n",
       "Kujawsko-Pomorskie                           1.52               6.75   \n",
       "Lubelskie                                    0.83               6.88   \n",
       "Lubuskie                                     1.84               7.54   \n",
       "Łódzkie                                      2.73               8.49   \n",
       "\n",
       "                    przeciętne_wynagrodzenie  miejsca_noclegowe  \\\n",
       "Dolnośląskie                         6242.88              24.52   \n",
       "Kujawsko-Pomorskie                   5286.83              15.37   \n",
       "Lubelskie                            5318.68              12.60   \n",
       "Lubuskie                             5286.50              17.65   \n",
       "Łódzkie                              5622.29               9.06   \n",
       "\n",
       "                   ściana_wschodnia  \n",
       "Dolnośląskie                    NIE  \n",
       "Kujawsko-Pomorskie              NIE  \n",
       "Lubelskie                       TAK  \n",
       "Lubuskie                        NIE  \n",
       "Łódzkie                         NIE  "
      ]
     },
     "execution_count": 10,
     "metadata": {},
     "output_type": "execute_result"
    }
   ],
   "source": [
    "data.rename(columns = {'liczba_samochodów':'samochody_osobowe'}, inplace=True)\n",
    "data.head()"
   ]
  },
  {
   "cell_type": "markdown",
   "id": "6bb85735-acac-4d98-9283-068108d46f58",
   "metadata": {},
   "source": [
    "#### Dodanie kolumny: **drogi_rowerowe_i_linie_kolejowe**,\n",
    "kolumna: **drogi_rowerowe_i_linie_kolejowe**, to suma długości dróg rowerowych </br>\n",
    "i długości lini kolejowych w podziale na województwa na 100km^2"
   ]
  },
  {
   "cell_type": "code",
   "execution_count": 11,
   "id": "051a3230-1a9a-486f-bf5f-86bac7d40fab",
   "metadata": {},
   "outputs": [
    {
     "data": {
      "text/html": [
       "<div>\n",
       "<style scoped>\n",
       "    .dataframe tbody tr th:only-of-type {\n",
       "        vertical-align: middle;\n",
       "    }\n",
       "\n",
       "    .dataframe tbody tr th {\n",
       "        vertical-align: top;\n",
       "    }\n",
       "\n",
       "    .dataframe thead th {\n",
       "        text-align: right;\n",
       "    }\n",
       "</style>\n",
       "<table border=\"1\" class=\"dataframe\">\n",
       "  <thead>\n",
       "    <tr style=\"text-align: right;\">\n",
       "      <th></th>\n",
       "      <th>samochody_osobowe</th>\n",
       "      <th>drogi_dla_rowerów</th>\n",
       "      <th>linie_kolejowe</th>\n",
       "      <th>drogi_ekspresowe_i_autostrady</th>\n",
       "      <th>ofiary_śmiertelne</th>\n",
       "      <th>przeciętne_wynagrodzenie</th>\n",
       "      <th>miejsca_noclegowe</th>\n",
       "      <th>ściana_wschodnia</th>\n",
       "      <th>drogi_rowerowe_i_linie_kolejowe</th>\n",
       "    </tr>\n",
       "  </thead>\n",
       "  <tbody>\n",
       "    <tr>\n",
       "      <th>Dolnośląskie</th>\n",
       "      <td>699.4</td>\n",
       "      <td>5.43</td>\n",
       "      <td>8.9</td>\n",
       "      <td>2.19</td>\n",
       "      <td>7.08</td>\n",
       "      <td>6242.88</td>\n",
       "      <td>24.52</td>\n",
       "      <td>NIE</td>\n",
       "      <td>14.33</td>\n",
       "    </tr>\n",
       "    <tr>\n",
       "      <th>Kujawsko-Pomorskie</th>\n",
       "      <td>680.4</td>\n",
       "      <td>7.69</td>\n",
       "      <td>6.7</td>\n",
       "      <td>1.52</td>\n",
       "      <td>6.75</td>\n",
       "      <td>5286.83</td>\n",
       "      <td>15.37</td>\n",
       "      <td>NIE</td>\n",
       "      <td>14.39</td>\n",
       "    </tr>\n",
       "    <tr>\n",
       "      <th>Lubelskie</th>\n",
       "      <td>683.6</td>\n",
       "      <td>4.38</td>\n",
       "      <td>4.4</td>\n",
       "      <td>0.83</td>\n",
       "      <td>6.88</td>\n",
       "      <td>5318.68</td>\n",
       "      <td>12.60</td>\n",
       "      <td>TAK</td>\n",
       "      <td>8.78</td>\n",
       "    </tr>\n",
       "    <tr>\n",
       "      <th>Lubuskie</th>\n",
       "      <td>742.5</td>\n",
       "      <td>5.32</td>\n",
       "      <td>6.5</td>\n",
       "      <td>1.84</td>\n",
       "      <td>7.54</td>\n",
       "      <td>5286.50</td>\n",
       "      <td>17.65</td>\n",
       "      <td>NIE</td>\n",
       "      <td>11.82</td>\n",
       "    </tr>\n",
       "    <tr>\n",
       "      <th>Łódzkie</th>\n",
       "      <td>698.0</td>\n",
       "      <td>5.73</td>\n",
       "      <td>5.9</td>\n",
       "      <td>2.73</td>\n",
       "      <td>8.49</td>\n",
       "      <td>5622.29</td>\n",
       "      <td>9.06</td>\n",
       "      <td>NIE</td>\n",
       "      <td>11.63</td>\n",
       "    </tr>\n",
       "  </tbody>\n",
       "</table>\n",
       "</div>"
      ],
      "text/plain": [
       "                    samochody_osobowe  drogi_dla_rowerów  linie_kolejowe  \\\n",
       "Dolnośląskie                    699.4               5.43             8.9   \n",
       "Kujawsko-Pomorskie              680.4               7.69             6.7   \n",
       "Lubelskie                       683.6               4.38             4.4   \n",
       "Lubuskie                        742.5               5.32             6.5   \n",
       "Łódzkie                         698.0               5.73             5.9   \n",
       "\n",
       "                    drogi_ekspresowe_i_autostrady  ofiary_śmiertelne  \\\n",
       "Dolnośląskie                                 2.19               7.08   \n",
       "Kujawsko-Pomorskie                           1.52               6.75   \n",
       "Lubelskie                                    0.83               6.88   \n",
       "Lubuskie                                     1.84               7.54   \n",
       "Łódzkie                                      2.73               8.49   \n",
       "\n",
       "                    przeciętne_wynagrodzenie  miejsca_noclegowe  \\\n",
       "Dolnośląskie                         6242.88              24.52   \n",
       "Kujawsko-Pomorskie                   5286.83              15.37   \n",
       "Lubelskie                            5318.68              12.60   \n",
       "Lubuskie                             5286.50              17.65   \n",
       "Łódzkie                              5622.29               9.06   \n",
       "\n",
       "                   ściana_wschodnia  drogi_rowerowe_i_linie_kolejowe  \n",
       "Dolnośląskie                    NIE                            14.33  \n",
       "Kujawsko-Pomorskie              NIE                            14.39  \n",
       "Lubelskie                       TAK                             8.78  \n",
       "Lubuskie                        NIE                            11.82  \n",
       "Łódzkie                         NIE                            11.63  "
      ]
     },
     "execution_count": 11,
     "metadata": {},
     "output_type": "execute_result"
    }
   ],
   "source": [
    "data['drogi_rowerowe_i_linie_kolejowe'] = data['drogi_dla_rowerów'] + data['linie_kolejowe']\n",
    "data.head()"
   ]
  },
  {
   "cell_type": "markdown",
   "id": "d60d88ac-92fd-4191-8b51-27996dc56d07",
   "metadata": {},
   "source": [
    "#### Usunięcie kolumny: **drogi_rowerowe_i_linie_kolejowe**"
   ]
  },
  {
   "cell_type": "code",
   "execution_count": 12,
   "id": "f74fecf1-7871-45b3-944f-d41a22a72858",
   "metadata": {},
   "outputs": [
    {
     "data": {
      "text/html": [
       "<div>\n",
       "<style scoped>\n",
       "    .dataframe tbody tr th:only-of-type {\n",
       "        vertical-align: middle;\n",
       "    }\n",
       "\n",
       "    .dataframe tbody tr th {\n",
       "        vertical-align: top;\n",
       "    }\n",
       "\n",
       "    .dataframe thead th {\n",
       "        text-align: right;\n",
       "    }\n",
       "</style>\n",
       "<table border=\"1\" class=\"dataframe\">\n",
       "  <thead>\n",
       "    <tr style=\"text-align: right;\">\n",
       "      <th></th>\n",
       "      <th>samochody_osobowe</th>\n",
       "      <th>drogi_dla_rowerów</th>\n",
       "      <th>linie_kolejowe</th>\n",
       "      <th>drogi_ekspresowe_i_autostrady</th>\n",
       "      <th>ofiary_śmiertelne</th>\n",
       "      <th>przeciętne_wynagrodzenie</th>\n",
       "      <th>miejsca_noclegowe</th>\n",
       "      <th>ściana_wschodnia</th>\n",
       "    </tr>\n",
       "  </thead>\n",
       "  <tbody>\n",
       "    <tr>\n",
       "      <th>Śląskie</th>\n",
       "      <td>654.3</td>\n",
       "      <td>11.10</td>\n",
       "      <td>15.2</td>\n",
       "      <td>2.95</td>\n",
       "      <td>4.19</td>\n",
       "      <td>5907.84</td>\n",
       "      <td>10.76</td>\n",
       "      <td>NIE</td>\n",
       "    </tr>\n",
       "    <tr>\n",
       "      <th>Świętokrzyskie</th>\n",
       "      <td>655.2</td>\n",
       "      <td>3.58</td>\n",
       "      <td>6.2</td>\n",
       "      <td>0.90</td>\n",
       "      <td>7.73</td>\n",
       "      <td>5262.19</td>\n",
       "      <td>14.39</td>\n",
       "      <td>TAK</td>\n",
       "    </tr>\n",
       "    <tr>\n",
       "      <th>Warmińsko-Mazurskie</th>\n",
       "      <td>630.8</td>\n",
       "      <td>3.08</td>\n",
       "      <td>4.5</td>\n",
       "      <td>1.07</td>\n",
       "      <td>8.40</td>\n",
       "      <td>5126.75</td>\n",
       "      <td>28.16</td>\n",
       "      <td>TAK</td>\n",
       "    </tr>\n",
       "    <tr>\n",
       "      <th>Wielkopolskie</th>\n",
       "      <td>735.7</td>\n",
       "      <td>7.84</td>\n",
       "      <td>6.3</td>\n",
       "      <td>1.63</td>\n",
       "      <td>6.71</td>\n",
       "      <td>5379.43</td>\n",
       "      <td>11.16</td>\n",
       "      <td>NIE</td>\n",
       "    </tr>\n",
       "    <tr>\n",
       "      <th>Zachodniopomorskie</th>\n",
       "      <td>657.0</td>\n",
       "      <td>4.81</td>\n",
       "      <td>5.1</td>\n",
       "      <td>1.47</td>\n",
       "      <td>6.80</td>\n",
       "      <td>5549.85</td>\n",
       "      <td>87.14</td>\n",
       "      <td>NIE</td>\n",
       "    </tr>\n",
       "  </tbody>\n",
       "</table>\n",
       "</div>"
      ],
      "text/plain": [
       "                     samochody_osobowe  drogi_dla_rowerów  linie_kolejowe  \\\n",
       "Śląskie                          654.3              11.10            15.2   \n",
       "Świętokrzyskie                   655.2               3.58             6.2   \n",
       "Warmińsko-Mazurskie              630.8               3.08             4.5   \n",
       "Wielkopolskie                    735.7               7.84             6.3   \n",
       "Zachodniopomorskie               657.0               4.81             5.1   \n",
       "\n",
       "                     drogi_ekspresowe_i_autostrady  ofiary_śmiertelne  \\\n",
       "Śląskie                                       2.95               4.19   \n",
       "Świętokrzyskie                                0.90               7.73   \n",
       "Warmińsko-Mazurskie                           1.07               8.40   \n",
       "Wielkopolskie                                 1.63               6.71   \n",
       "Zachodniopomorskie                            1.47               6.80   \n",
       "\n",
       "                     przeciętne_wynagrodzenie  miejsca_noclegowe  \\\n",
       "Śląskie                               5907.84              10.76   \n",
       "Świętokrzyskie                        5262.19              14.39   \n",
       "Warmińsko-Mazurskie                   5126.75              28.16   \n",
       "Wielkopolskie                         5379.43              11.16   \n",
       "Zachodniopomorskie                    5549.85              87.14   \n",
       "\n",
       "                    ściana_wschodnia  \n",
       "Śląskie                          NIE  \n",
       "Świętokrzyskie                   TAK  \n",
       "Warmińsko-Mazurskie              TAK  \n",
       "Wielkopolskie                    NIE  \n",
       "Zachodniopomorskie               NIE  "
      ]
     },
     "execution_count": 12,
     "metadata": {},
     "output_type": "execute_result"
    }
   ],
   "source": [
    "data.drop('drogi_rowerowe_i_linie_kolejowe', axis=1, inplace = True)\n",
    "data.tail()"
   ]
  },
  {
   "cell_type": "markdown",
   "id": "39ff6dd1-1428-4bc9-9862-6b7acd5cf639",
   "metadata": {},
   "source": [
    "#### Sortowanie\n",
    "według `samochody_osobowe` malejąco."
   ]
  },
  {
   "cell_type": "code",
   "execution_count": 13,
   "id": "ae611b85-04a7-47c7-9087-e0e3f138756f",
   "metadata": {},
   "outputs": [
    {
     "data": {
      "text/html": [
       "<div>\n",
       "<style scoped>\n",
       "    .dataframe tbody tr th:only-of-type {\n",
       "        vertical-align: middle;\n",
       "    }\n",
       "\n",
       "    .dataframe tbody tr th {\n",
       "        vertical-align: top;\n",
       "    }\n",
       "\n",
       "    .dataframe thead th {\n",
       "        text-align: right;\n",
       "    }\n",
       "</style>\n",
       "<table border=\"1\" class=\"dataframe\">\n",
       "  <thead>\n",
       "    <tr style=\"text-align: right;\">\n",
       "      <th></th>\n",
       "      <th>samochody_osobowe</th>\n",
       "      <th>drogi_dla_rowerów</th>\n",
       "      <th>linie_kolejowe</th>\n",
       "      <th>drogi_ekspresowe_i_autostrady</th>\n",
       "      <th>ofiary_śmiertelne</th>\n",
       "      <th>przeciętne_wynagrodzenie</th>\n",
       "      <th>miejsca_noclegowe</th>\n",
       "      <th>ściana_wschodnia</th>\n",
       "    </tr>\n",
       "  </thead>\n",
       "  <tbody>\n",
       "    <tr>\n",
       "      <th>Lubuskie</th>\n",
       "      <td>742.5</td>\n",
       "      <td>5.32</td>\n",
       "      <td>6.5</td>\n",
       "      <td>1.84</td>\n",
       "      <td>7.54</td>\n",
       "      <td>5286.50</td>\n",
       "      <td>17.65</td>\n",
       "      <td>NIE</td>\n",
       "    </tr>\n",
       "    <tr>\n",
       "      <th>Mazowieckie</th>\n",
       "      <td>742.4</td>\n",
       "      <td>7.62</td>\n",
       "      <td>4.8</td>\n",
       "      <td>1.36</td>\n",
       "      <td>6.91</td>\n",
       "      <td>7108.20</td>\n",
       "      <td>11.84</td>\n",
       "      <td>TAK</td>\n",
       "    </tr>\n",
       "    <tr>\n",
       "      <th>Wielkopolskie</th>\n",
       "      <td>735.7</td>\n",
       "      <td>7.84</td>\n",
       "      <td>6.3</td>\n",
       "      <td>1.63</td>\n",
       "      <td>6.71</td>\n",
       "      <td>5379.43</td>\n",
       "      <td>11.16</td>\n",
       "      <td>NIE</td>\n",
       "    </tr>\n",
       "    <tr>\n",
       "      <th>Opolskie</th>\n",
       "      <td>735.3</td>\n",
       "      <td>6.19</td>\n",
       "      <td>8.3</td>\n",
       "      <td>0.94</td>\n",
       "      <td>9.12</td>\n",
       "      <td>5492.82</td>\n",
       "      <td>7.55</td>\n",
       "      <td>NIE</td>\n",
       "    </tr>\n",
       "    <tr>\n",
       "      <th>Dolnośląskie</th>\n",
       "      <td>699.4</td>\n",
       "      <td>5.43</td>\n",
       "      <td>8.9</td>\n",
       "      <td>2.19</td>\n",
       "      <td>7.08</td>\n",
       "      <td>6242.88</td>\n",
       "      <td>24.52</td>\n",
       "      <td>NIE</td>\n",
       "    </tr>\n",
       "  </tbody>\n",
       "</table>\n",
       "</div>"
      ],
      "text/plain": [
       "               samochody_osobowe  drogi_dla_rowerów  linie_kolejowe  \\\n",
       "Lubuskie                   742.5               5.32             6.5   \n",
       "Mazowieckie                742.4               7.62             4.8   \n",
       "Wielkopolskie              735.7               7.84             6.3   \n",
       "Opolskie                   735.3               6.19             8.3   \n",
       "Dolnośląskie               699.4               5.43             8.9   \n",
       "\n",
       "               drogi_ekspresowe_i_autostrady  ofiary_śmiertelne  \\\n",
       "Lubuskie                                1.84               7.54   \n",
       "Mazowieckie                             1.36               6.91   \n",
       "Wielkopolskie                           1.63               6.71   \n",
       "Opolskie                                0.94               9.12   \n",
       "Dolnośląskie                            2.19               7.08   \n",
       "\n",
       "               przeciętne_wynagrodzenie  miejsca_noclegowe ściana_wschodnia  \n",
       "Lubuskie                        5286.50              17.65              NIE  \n",
       "Mazowieckie                     7108.20              11.84              TAK  \n",
       "Wielkopolskie                   5379.43              11.16              NIE  \n",
       "Opolskie                        5492.82               7.55              NIE  \n",
       "Dolnośląskie                    6242.88              24.52              NIE  "
      ]
     },
     "execution_count": 13,
     "metadata": {},
     "output_type": "execute_result"
    }
   ],
   "source": [
    "data_sort = data.sort_values('samochody_osobowe', ascending = False)\n",
    "data_sort.head()"
   ]
  },
  {
   "cell_type": "code",
   "execution_count": 14,
   "id": "73b2c230-6242-437a-b4cd-520f0149872e",
   "metadata": {},
   "outputs": [
    {
     "data": {
      "text/html": [
       "<div>\n",
       "<style scoped>\n",
       "    .dataframe tbody tr th:only-of-type {\n",
       "        vertical-align: middle;\n",
       "    }\n",
       "\n",
       "    .dataframe tbody tr th {\n",
       "        vertical-align: top;\n",
       "    }\n",
       "\n",
       "    .dataframe thead th {\n",
       "        text-align: right;\n",
       "    }\n",
       "</style>\n",
       "<table border=\"1\" class=\"dataframe\">\n",
       "  <thead>\n",
       "    <tr style=\"text-align: right;\">\n",
       "      <th></th>\n",
       "      <th>samochody_osobowe</th>\n",
       "      <th>drogi_dla_rowerów</th>\n",
       "      <th>linie_kolejowe</th>\n",
       "      <th>drogi_ekspresowe_i_autostrady</th>\n",
       "      <th>ofiary_śmiertelne</th>\n",
       "      <th>przeciętne_wynagrodzenie</th>\n",
       "      <th>miejsca_noclegowe</th>\n",
       "      <th>ściana_wschodnia</th>\n",
       "    </tr>\n",
       "  </thead>\n",
       "  <tbody>\n",
       "    <tr>\n",
       "      <th>Śląskie</th>\n",
       "      <td>654.3</td>\n",
       "      <td>11.10</td>\n",
       "      <td>15.2</td>\n",
       "      <td>2.95</td>\n",
       "      <td>4.19</td>\n",
       "      <td>5907.84</td>\n",
       "      <td>10.76</td>\n",
       "      <td>NIE</td>\n",
       "    </tr>\n",
       "    <tr>\n",
       "      <th>Małopolskie</th>\n",
       "      <td>634.7</td>\n",
       "      <td>5.51</td>\n",
       "      <td>7.1</td>\n",
       "      <td>1.34</td>\n",
       "      <td>5.04</td>\n",
       "      <td>6046.95</td>\n",
       "      <td>28.94</td>\n",
       "      <td>TAK</td>\n",
       "    </tr>\n",
       "    <tr>\n",
       "      <th>Warmińsko-Mazurskie</th>\n",
       "      <td>630.8</td>\n",
       "      <td>3.08</td>\n",
       "      <td>4.5</td>\n",
       "      <td>1.07</td>\n",
       "      <td>8.40</td>\n",
       "      <td>5126.75</td>\n",
       "      <td>28.16</td>\n",
       "      <td>TAK</td>\n",
       "    </tr>\n",
       "    <tr>\n",
       "      <th>Podkarpackie</th>\n",
       "      <td>619.6</td>\n",
       "      <td>4.03</td>\n",
       "      <td>5.5</td>\n",
       "      <td>1.27</td>\n",
       "      <td>5.35</td>\n",
       "      <td>5172.11</td>\n",
       "      <td>15.86</td>\n",
       "      <td>TAK</td>\n",
       "    </tr>\n",
       "    <tr>\n",
       "      <th>Podlaskie</th>\n",
       "      <td>599.9</td>\n",
       "      <td>3.90</td>\n",
       "      <td>3.8</td>\n",
       "      <td>0.81</td>\n",
       "      <td>7.95</td>\n",
       "      <td>5412.89</td>\n",
       "      <td>12.23</td>\n",
       "      <td>TAK</td>\n",
       "    </tr>\n",
       "  </tbody>\n",
       "</table>\n",
       "</div>"
      ],
      "text/plain": [
       "                     samochody_osobowe  drogi_dla_rowerów  linie_kolejowe  \\\n",
       "Śląskie                          654.3              11.10            15.2   \n",
       "Małopolskie                      634.7               5.51             7.1   \n",
       "Warmińsko-Mazurskie              630.8               3.08             4.5   \n",
       "Podkarpackie                     619.6               4.03             5.5   \n",
       "Podlaskie                        599.9               3.90             3.8   \n",
       "\n",
       "                     drogi_ekspresowe_i_autostrady  ofiary_śmiertelne  \\\n",
       "Śląskie                                       2.95               4.19   \n",
       "Małopolskie                                   1.34               5.04   \n",
       "Warmińsko-Mazurskie                           1.07               8.40   \n",
       "Podkarpackie                                  1.27               5.35   \n",
       "Podlaskie                                     0.81               7.95   \n",
       "\n",
       "                     przeciętne_wynagrodzenie  miejsca_noclegowe  \\\n",
       "Śląskie                               5907.84              10.76   \n",
       "Małopolskie                           6046.95              28.94   \n",
       "Warmińsko-Mazurskie                   5126.75              28.16   \n",
       "Podkarpackie                          5172.11              15.86   \n",
       "Podlaskie                             5412.89              12.23   \n",
       "\n",
       "                    ściana_wschodnia  \n",
       "Śląskie                          NIE  \n",
       "Małopolskie                      TAK  \n",
       "Warmińsko-Mazurskie              TAK  \n",
       "Podkarpackie                     TAK  \n",
       "Podlaskie                        TAK  "
      ]
     },
     "execution_count": 14,
     "metadata": {},
     "output_type": "execute_result"
    }
   ],
   "source": [
    "data_sort.tail()"
   ]
  },
  {
   "cell_type": "markdown",
   "id": "f1dab1b2-c59b-4ba1-9759-193a569cffc6",
   "metadata": {},
   "source": [
    "Najwięcej samochodów na 1000 mieszkańców jest w województwie Lubelskim i Mazowieckim, </br>\n",
    "a najmniej na Podlasiu i Podkarpaciu."
   ]
  },
  {
   "cell_type": "markdown",
   "id": "db92c8e9-5206-4873-9658-e5898591a33a",
   "metadata": {},
   "source": [
    "#### Filtrowanie\n",
    "Wybór województw, w których przeciętne miesięczne wynagrodzenie brutto jest wyższe niż sześć tysięcy zł:"
   ]
  },
  {
   "cell_type": "code",
   "execution_count": 15,
   "id": "4619cbfd-045b-4afa-aa93-b76b94537a26",
   "metadata": {},
   "outputs": [
    {
     "data": {
      "text/html": [
       "<div>\n",
       "<style scoped>\n",
       "    .dataframe tbody tr th:only-of-type {\n",
       "        vertical-align: middle;\n",
       "    }\n",
       "\n",
       "    .dataframe tbody tr th {\n",
       "        vertical-align: top;\n",
       "    }\n",
       "\n",
       "    .dataframe thead th {\n",
       "        text-align: right;\n",
       "    }\n",
       "</style>\n",
       "<table border=\"1\" class=\"dataframe\">\n",
       "  <thead>\n",
       "    <tr style=\"text-align: right;\">\n",
       "      <th></th>\n",
       "      <th>samochody_osobowe</th>\n",
       "      <th>drogi_dla_rowerów</th>\n",
       "      <th>linie_kolejowe</th>\n",
       "      <th>drogi_ekspresowe_i_autostrady</th>\n",
       "      <th>ofiary_śmiertelne</th>\n",
       "      <th>przeciętne_wynagrodzenie</th>\n",
       "      <th>miejsca_noclegowe</th>\n",
       "      <th>ściana_wschodnia</th>\n",
       "    </tr>\n",
       "  </thead>\n",
       "  <tbody>\n",
       "    <tr>\n",
       "      <th>Dolnośląskie</th>\n",
       "      <td>699.4</td>\n",
       "      <td>5.43</td>\n",
       "      <td>8.9</td>\n",
       "      <td>2.19</td>\n",
       "      <td>7.08</td>\n",
       "      <td>6242.88</td>\n",
       "      <td>24.52</td>\n",
       "      <td>NIE</td>\n",
       "    </tr>\n",
       "    <tr>\n",
       "      <th>Małopolskie</th>\n",
       "      <td>634.7</td>\n",
       "      <td>5.51</td>\n",
       "      <td>7.1</td>\n",
       "      <td>1.34</td>\n",
       "      <td>5.04</td>\n",
       "      <td>6046.95</td>\n",
       "      <td>28.94</td>\n",
       "      <td>TAK</td>\n",
       "    </tr>\n",
       "    <tr>\n",
       "      <th>Mazowieckie</th>\n",
       "      <td>742.4</td>\n",
       "      <td>7.62</td>\n",
       "      <td>4.8</td>\n",
       "      <td>1.36</td>\n",
       "      <td>6.91</td>\n",
       "      <td>7108.20</td>\n",
       "      <td>11.84</td>\n",
       "      <td>TAK</td>\n",
       "    </tr>\n",
       "  </tbody>\n",
       "</table>\n",
       "</div>"
      ],
      "text/plain": [
       "              samochody_osobowe  drogi_dla_rowerów  linie_kolejowe  \\\n",
       "Dolnośląskie              699.4               5.43             8.9   \n",
       "Małopolskie               634.7               5.51             7.1   \n",
       "Mazowieckie               742.4               7.62             4.8   \n",
       "\n",
       "              drogi_ekspresowe_i_autostrady  ofiary_śmiertelne  \\\n",
       "Dolnośląskie                           2.19               7.08   \n",
       "Małopolskie                            1.34               5.04   \n",
       "Mazowieckie                            1.36               6.91   \n",
       "\n",
       "              przeciętne_wynagrodzenie  miejsca_noclegowe ściana_wschodnia  \n",
       "Dolnośląskie                   6242.88              24.52              NIE  \n",
       "Małopolskie                    6046.95              28.94              TAK  \n",
       "Mazowieckie                    7108.20              11.84              TAK  "
      ]
     },
     "execution_count": 15,
     "metadata": {},
     "output_type": "execute_result"
    }
   ],
   "source": [
    "data[data['przeciętne_wynagrodzenie']> 6000 ]"
   ]
  },
  {
   "cell_type": "markdown",
   "id": "45dc2d2d-a174-41da-9d1c-6348b3cba068",
   "metadata": {},
   "source": [
    "W trzech województwach (dolnośląskim, małopolskim i mazowieckim) przeciętne wynagrodzenie brutto jest większe od sześciu tysięcy miesięcznie."
   ]
  },
  {
   "cell_type": "markdown",
   "id": "a0c3594e-034a-4684-8be4-5562370d8562",
   "metadata": {},
   "source": [
    "Wybór województw, w których jest więcej niż 2 kilometry dróg ekspresowych i autostrad na sto km^2 i liczba ofiar śmiertelnych</br> \n",
    "nie przekracza 7 osób na 100 tysięcy pojazdów:"
   ]
  },
  {
   "cell_type": "code",
   "execution_count": 16,
   "id": "03746206-72a9-4802-aa34-ab99b79e87bc",
   "metadata": {},
   "outputs": [
    {
     "data": {
      "text/html": [
       "<div>\n",
       "<style scoped>\n",
       "    .dataframe tbody tr th:only-of-type {\n",
       "        vertical-align: middle;\n",
       "    }\n",
       "\n",
       "    .dataframe tbody tr th {\n",
       "        vertical-align: top;\n",
       "    }\n",
       "\n",
       "    .dataframe thead th {\n",
       "        text-align: right;\n",
       "    }\n",
       "</style>\n",
       "<table border=\"1\" class=\"dataframe\">\n",
       "  <thead>\n",
       "    <tr style=\"text-align: right;\">\n",
       "      <th></th>\n",
       "      <th>samochody_osobowe</th>\n",
       "      <th>drogi_dla_rowerów</th>\n",
       "      <th>linie_kolejowe</th>\n",
       "      <th>drogi_ekspresowe_i_autostrady</th>\n",
       "      <th>ofiary_śmiertelne</th>\n",
       "      <th>przeciętne_wynagrodzenie</th>\n",
       "      <th>miejsca_noclegowe</th>\n",
       "      <th>ściana_wschodnia</th>\n",
       "    </tr>\n",
       "  </thead>\n",
       "  <tbody>\n",
       "    <tr>\n",
       "      <th>Śląskie</th>\n",
       "      <td>654.3</td>\n",
       "      <td>11.1</td>\n",
       "      <td>15.2</td>\n",
       "      <td>2.95</td>\n",
       "      <td>4.19</td>\n",
       "      <td>5907.84</td>\n",
       "      <td>10.76</td>\n",
       "      <td>NIE</td>\n",
       "    </tr>\n",
       "  </tbody>\n",
       "</table>\n",
       "</div>"
      ],
      "text/plain": [
       "         samochody_osobowe  drogi_dla_rowerów  linie_kolejowe  \\\n",
       "Śląskie              654.3               11.1            15.2   \n",
       "\n",
       "         drogi_ekspresowe_i_autostrady  ofiary_śmiertelne  \\\n",
       "Śląskie                           2.95               4.19   \n",
       "\n",
       "         przeciętne_wynagrodzenie  miejsca_noclegowe ściana_wschodnia  \n",
       "Śląskie                   5907.84              10.76              NIE  "
      ]
     },
     "execution_count": 16,
     "metadata": {},
     "output_type": "execute_result"
    }
   ],
   "source": [
    "data[(data['drogi_ekspresowe_i_autostrady']> 2) & (data['ofiary_śmiertelne'] <= 7 )]"
   ]
  },
  {
   "cell_type": "markdown",
   "id": "b9d304b3-ad21-4e13-aab3-3c59f245cec0",
   "metadata": {},
   "source": [
    "Województwo, w których jest więcej niż 2 kilometry dróg ekspresowych i autostrad na sto km^2 i liczba ofiar śmiertelnych</br> \n",
    "nie przekracza 7 osób na sto tysięcy pojazdów to Śląsk."
   ]
  },
  {
   "cell_type": "markdown",
   "id": "5878e3c6-9bb6-477e-a4e4-ad8882940d44",
   "metadata": {},
   "source": [
    "#### Selekcja kolumn i wierszy \n",
    "Z wykorzystaniem loc: wybór województw: łódzkiego, mazowiezkiego i opolskiego oraz kolumny, która przedstawia długość lini kolejowych "
   ]
  },
  {
   "cell_type": "code",
   "execution_count": 17,
   "id": "be08492c-cd44-4687-acad-bf6cc5c0512c",
   "metadata": {},
   "outputs": [
    {
     "data": {
      "text/html": [
       "<div>\n",
       "<style scoped>\n",
       "    .dataframe tbody tr th:only-of-type {\n",
       "        vertical-align: middle;\n",
       "    }\n",
       "\n",
       "    .dataframe tbody tr th {\n",
       "        vertical-align: top;\n",
       "    }\n",
       "\n",
       "    .dataframe thead th {\n",
       "        text-align: right;\n",
       "    }\n",
       "</style>\n",
       "<table border=\"1\" class=\"dataframe\">\n",
       "  <thead>\n",
       "    <tr style=\"text-align: right;\">\n",
       "      <th></th>\n",
       "      <th>linie_kolejowe</th>\n",
       "    </tr>\n",
       "  </thead>\n",
       "  <tbody>\n",
       "    <tr>\n",
       "      <th>Łódzkie</th>\n",
       "      <td>5.9</td>\n",
       "    </tr>\n",
       "    <tr>\n",
       "      <th>Mazowieckie</th>\n",
       "      <td>4.8</td>\n",
       "    </tr>\n",
       "    <tr>\n",
       "      <th>Opolskie</th>\n",
       "      <td>8.3</td>\n",
       "    </tr>\n",
       "  </tbody>\n",
       "</table>\n",
       "</div>"
      ],
      "text/plain": [
       "             linie_kolejowe\n",
       "Łódzkie                 5.9\n",
       "Mazowieckie             4.8\n",
       "Opolskie                8.3"
      ]
     },
     "execution_count": 17,
     "metadata": {},
     "output_type": "execute_result"
    }
   ],
   "source": [
    "data.loc[['Łódzkie', 'Mazowieckie', 'Opolskie'], ['linie_kolejowe']]"
   ]
  },
  {
   "cell_type": "markdown",
   "id": "ff177bc3-3e89-410b-add3-a8338af4b4a0",
   "metadata": {},
   "source": [
    "Spośród wybranych województw w województwie opolskim jest najwięcej, bo 8.3 km lini kolejowych na 100 km\"2."
   ]
  },
  {
   "cell_type": "markdown",
   "id": "b09d728b-6f4f-4c5f-8783-3e8cfb3689ce",
   "metadata": {},
   "source": [
    "Z wykorzystaniem iloc: wybór  pierwszego, szóstego i dwunastego wiersza oraz pierwszej, czwartej i siódmej kolumny"
   ]
  },
  {
   "cell_type": "code",
   "execution_count": 18,
   "id": "2ac4caef-bc74-497c-8fea-01f2a5ef9677",
   "metadata": {},
   "outputs": [
    {
     "data": {
      "text/html": [
       "<div>\n",
       "<style scoped>\n",
       "    .dataframe tbody tr th:only-of-type {\n",
       "        vertical-align: middle;\n",
       "    }\n",
       "\n",
       "    .dataframe tbody tr th {\n",
       "        vertical-align: top;\n",
       "    }\n",
       "\n",
       "    .dataframe thead th {\n",
       "        text-align: right;\n",
       "    }\n",
       "</style>\n",
       "<table border=\"1\" class=\"dataframe\">\n",
       "  <thead>\n",
       "    <tr style=\"text-align: right;\">\n",
       "      <th></th>\n",
       "      <th>samochody_osobowe</th>\n",
       "      <th>drogi_ekspresowe_i_autostrady</th>\n",
       "      <th>miejsca_noclegowe</th>\n",
       "    </tr>\n",
       "  </thead>\n",
       "  <tbody>\n",
       "    <tr>\n",
       "      <th>Dolnośląskie</th>\n",
       "      <td>699.4</td>\n",
       "      <td>2.19</td>\n",
       "      <td>24.52</td>\n",
       "    </tr>\n",
       "    <tr>\n",
       "      <th>Małopolskie</th>\n",
       "      <td>634.7</td>\n",
       "      <td>1.34</td>\n",
       "      <td>28.94</td>\n",
       "    </tr>\n",
       "    <tr>\n",
       "      <th>Śląskie</th>\n",
       "      <td>654.3</td>\n",
       "      <td>2.95</td>\n",
       "      <td>10.76</td>\n",
       "    </tr>\n",
       "  </tbody>\n",
       "</table>\n",
       "</div>"
      ],
      "text/plain": [
       "              samochody_osobowe  drogi_ekspresowe_i_autostrady  \\\n",
       "Dolnośląskie              699.4                           2.19   \n",
       "Małopolskie               634.7                           1.34   \n",
       "Śląskie                   654.3                           2.95   \n",
       "\n",
       "              miejsca_noclegowe  \n",
       "Dolnośląskie              24.52  \n",
       "Małopolskie               28.94  \n",
       "Śląskie                   10.76  "
      ]
     },
     "execution_count": 18,
     "metadata": {},
     "output_type": "execute_result"
    }
   ],
   "source": [
    "data.iloc[[0, 5, 11],[0, 3, 6]]"
   ]
  },
  {
   "cell_type": "markdown",
   "id": "42575cd1-bfcc-4a71-8c66-4bc909ecb4de",
   "metadata": {},
   "source": [
    "W województwach: dolnśląskim, małopolskim i śląskim liczba samochodów osobowych jest między 634 a 700.</br>\n",
    "Z wybranych trzech województw najwięcej kilometrów dróg ekspresowych i autostrad na 100 km jest na Śląsku oraz stosunkowo </br> \n",
    "najmniej miejsc noclegowych na tysiąc ludności."
   ]
  },
  {
   "cell_type": "markdown",
   "id": "9e6c1e98-c849-4252-ba7d-376c98290972",
   "metadata": {},
   "source": [
    "#### Sprawdzenie występowania braków danych"
   ]
  },
  {
   "cell_type": "code",
   "execution_count": 19,
   "id": "1c4dd224-360c-410a-b9cd-c210b09b98dc",
   "metadata": {},
   "outputs": [
    {
     "data": {
      "text/plain": [
       "samochody_osobowe                False\n",
       "drogi_dla_rowerów                False\n",
       "linie_kolejowe                   False\n",
       "drogi_ekspresowe_i_autostrady    False\n",
       "ofiary_śmiertelne                False\n",
       "przeciętne_wynagrodzenie         False\n",
       "miejsca_noclegowe                False\n",
       "ściana_wschodnia                 False\n",
       "dtype: bool"
      ]
     },
     "execution_count": 19,
     "metadata": {},
     "output_type": "execute_result"
    }
   ],
   "source": [
    "data.isnull().any()"
   ]
  },
  {
   "cell_type": "code",
   "execution_count": 20,
   "id": "92dab490-89f6-4d5c-85c1-cfc43e6b98c6",
   "metadata": {},
   "outputs": [
    {
     "data": {
      "text/plain": [
       "samochody_osobowe                0\n",
       "drogi_dla_rowerów                0\n",
       "linie_kolejowe                   0\n",
       "drogi_ekspresowe_i_autostrady    0\n",
       "ofiary_śmiertelne                0\n",
       "przeciętne_wynagrodzenie         0\n",
       "miejsca_noclegowe                0\n",
       "ściana_wschodnia                 0\n",
       "dtype: int64"
      ]
     },
     "execution_count": 20,
     "metadata": {},
     "output_type": "execute_result"
    }
   ],
   "source": [
    "data.isnull().sum()"
   ]
  },
  {
   "cell_type": "markdown",
   "id": "81cb4cfe-26d8-479b-beed-ef4f839323b9",
   "metadata": {},
   "source": [
    "Nie występują braki danych."
   ]
  },
  {
   "cell_type": "markdown",
   "id": "ac220f3d-1dfa-40e8-94d2-57fca24d9adf",
   "metadata": {},
   "source": [
    "### Statystyki opisowe"
   ]
  },
  {
   "cell_type": "code",
   "execution_count": 21,
   "id": "4b230a03-96a4-4174-83e8-95de8eb0beb7",
   "metadata": {},
   "outputs": [
    {
     "data": {
      "text/html": [
       "<div>\n",
       "<style scoped>\n",
       "    .dataframe tbody tr th:only-of-type {\n",
       "        vertical-align: middle;\n",
       "    }\n",
       "\n",
       "    .dataframe tbody tr th {\n",
       "        vertical-align: top;\n",
       "    }\n",
       "\n",
       "    .dataframe thead th {\n",
       "        text-align: right;\n",
       "    }\n",
       "</style>\n",
       "<table border=\"1\" class=\"dataframe\">\n",
       "  <thead>\n",
       "    <tr style=\"text-align: right;\">\n",
       "      <th></th>\n",
       "      <th>samochody_osobowe</th>\n",
       "      <th>drogi_dla_rowerów</th>\n",
       "      <th>linie_kolejowe</th>\n",
       "      <th>drogi_ekspresowe_i_autostrady</th>\n",
       "      <th>ofiary_śmiertelne</th>\n",
       "      <th>przeciętne_wynagrodzenie</th>\n",
       "      <th>miejsca_noclegowe</th>\n",
       "    </tr>\n",
       "  </thead>\n",
       "  <tbody>\n",
       "    <tr>\n",
       "      <th>count</th>\n",
       "      <td>16.000000</td>\n",
       "      <td>16.000000</td>\n",
       "      <td>16.00000</td>\n",
       "      <td>16.000000</td>\n",
       "      <td>16.000000</td>\n",
       "      <td>16.000000</td>\n",
       "      <td>16.000000</td>\n",
       "    </tr>\n",
       "    <tr>\n",
       "      <th>mean</th>\n",
       "      <td>676.800000</td>\n",
       "      <td>5.916875</td>\n",
       "      <td>6.61250</td>\n",
       "      <td>1.485625</td>\n",
       "      <td>6.930000</td>\n",
       "      <td>5638.158750</td>\n",
       "      <td>22.151250</td>\n",
       "    </tr>\n",
       "    <tr>\n",
       "      <th>std</th>\n",
       "      <td>45.644759</td>\n",
       "      <td>2.139591</td>\n",
       "      <td>2.67005</td>\n",
       "      <td>0.655235</td>\n",
       "      <td>1.319657</td>\n",
       "      <td>517.011976</td>\n",
       "      <td>20.059027</td>\n",
       "    </tr>\n",
       "    <tr>\n",
       "      <th>min</th>\n",
       "      <td>599.900000</td>\n",
       "      <td>3.080000</td>\n",
       "      <td>3.80000</td>\n",
       "      <td>0.810000</td>\n",
       "      <td>4.190000</td>\n",
       "      <td>5126.750000</td>\n",
       "      <td>7.550000</td>\n",
       "    </tr>\n",
       "    <tr>\n",
       "      <th>25%</th>\n",
       "      <td>649.400000</td>\n",
       "      <td>4.292500</td>\n",
       "      <td>5.02500</td>\n",
       "      <td>0.935000</td>\n",
       "      <td>6.517500</td>\n",
       "      <td>5286.747500</td>\n",
       "      <td>11.670000</td>\n",
       "    </tr>\n",
       "    <tr>\n",
       "      <th>50%</th>\n",
       "      <td>670.200000</td>\n",
       "      <td>5.470000</td>\n",
       "      <td>6.25000</td>\n",
       "      <td>1.350000</td>\n",
       "      <td>6.895000</td>\n",
       "      <td>5452.855000</td>\n",
       "      <td>14.880000</td>\n",
       "    </tr>\n",
       "    <tr>\n",
       "      <th>75%</th>\n",
       "      <td>708.375000</td>\n",
       "      <td>7.637500</td>\n",
       "      <td>6.80000</td>\n",
       "      <td>1.682500</td>\n",
       "      <td>7.785000</td>\n",
       "      <td>5929.462500</td>\n",
       "      <td>25.430000</td>\n",
       "    </tr>\n",
       "    <tr>\n",
       "      <th>max</th>\n",
       "      <td>742.500000</td>\n",
       "      <td>11.100000</td>\n",
       "      <td>15.20000</td>\n",
       "      <td>2.950000</td>\n",
       "      <td>9.120000</td>\n",
       "      <td>7108.200000</td>\n",
       "      <td>87.140000</td>\n",
       "    </tr>\n",
       "  </tbody>\n",
       "</table>\n",
       "</div>"
      ],
      "text/plain": [
       "       samochody_osobowe  drogi_dla_rowerów  linie_kolejowe  \\\n",
       "count          16.000000          16.000000        16.00000   \n",
       "mean          676.800000           5.916875         6.61250   \n",
       "std            45.644759           2.139591         2.67005   \n",
       "min           599.900000           3.080000         3.80000   \n",
       "25%           649.400000           4.292500         5.02500   \n",
       "50%           670.200000           5.470000         6.25000   \n",
       "75%           708.375000           7.637500         6.80000   \n",
       "max           742.500000          11.100000        15.20000   \n",
       "\n",
       "       drogi_ekspresowe_i_autostrady  ofiary_śmiertelne  \\\n",
       "count                      16.000000          16.000000   \n",
       "mean                        1.485625           6.930000   \n",
       "std                         0.655235           1.319657   \n",
       "min                         0.810000           4.190000   \n",
       "25%                         0.935000           6.517500   \n",
       "50%                         1.350000           6.895000   \n",
       "75%                         1.682500           7.785000   \n",
       "max                         2.950000           9.120000   \n",
       "\n",
       "       przeciętne_wynagrodzenie  miejsca_noclegowe  \n",
       "count                 16.000000          16.000000  \n",
       "mean                5638.158750          22.151250  \n",
       "std                  517.011976          20.059027  \n",
       "min                 5126.750000           7.550000  \n",
       "25%                 5286.747500          11.670000  \n",
       "50%                 5452.855000          14.880000  \n",
       "75%                 5929.462500          25.430000  \n",
       "max                 7108.200000          87.140000  "
      ]
     },
     "execution_count": 21,
     "metadata": {},
     "output_type": "execute_result"
    }
   ],
   "source": [
    "data.describe()"
   ]
  },
  {
   "cell_type": "markdown",
   "id": "069af331-3d26-4ccc-8b5f-a26e16a591a5",
   "metadata": {},
   "source": [
    "Obliczone statystyki opisowe dla zmiennej wskazującej na liczbę samochodów osobowych wykazały, że w badanych województwach występuje średnio 676,8 samochodów na 1000 mieszkańców. </br>\n",
    "Na podstawie odchylenia standardowego, można wnioskować, że wartości analizowanej zmiennej odchylają się przeciętnie od średniej o 45,6. Najmniej samochodów na 1000 mieszkańców występuje w województwie podlaskim, 599,9. Najwięcej, 742,5 samochodów na 1000 mieszkańców, występuje natomiast w województwie lubuskim. W przypadku jednej czwartej województw badana zmienna osiąga co najwyżej wartość 649,4 samochodów na 1000 mieszkańców. Natomiast trzy czwarte obserwcji osiąga co najmniej wartość 708,4 samochodów na 1000 mieszkańców. </br>\n",
    "\n",
    "W przypadku zmiennej długość dróg rowerowych na 100 km2, najmniejszą ich długość, 3,08 km,  zaobserwować można w województwie warmińsko-mazurskim, a największą w województwie śląskim,</br> \n",
    "11,1 km. W przypadku 25% województw, długość dróg rowerowych na 100km2, przyjmuje wartość co najwyżej 4,29 km, natomast 75% województw posiada drogi rowerowe o długości co najmniej 7,64 km. Przeciętnie w analizowanych województwach, długość dróg rowerowych osiąga wartość 5,91 km. Wartości odchylają się od wskazanej średniej o 2,14 km.</br>\n",
    "\n",
    "Analizując statystyki opisowe wyznaczone dla zmiennej linie kolejowe ogółem na 100 km2, zaobserwować można, że najwięcej ich występuje w województwie śląskim, a najmniej w podlaskim.</br>\n",
    "Średnia wartość badanej zmiennej to 6,61 km, a odchylenie standardowe wskazuje, że wartości odchylają się od wskazanej wartości o 2,67 km. W jednej czwartej województw długość liniikolejowych nie przekracza 3,8 km, natomiast w trzech czwartych obserwacji ich długość przekracza 6,8 km.</br>\n",
    "\n",
    "Największą długość dróg ekspresowych i autostrad na 100 km2 zaobserwować można, podobnie jak w przypadku długości linii kolejowych, w województwie śląskim. Najmniejszą natomiast ponownie w </br> podlaskim. Średnio, w polskich województwach długośc dróg szybkiego ruchu osiąga wartość 1,48 km, a wartości w poszczególnych województwach odchylają się od średniej przeciętnie o 0,95 km. Trzy czwarte obserwcji osiąga wartość co najmniej 1,68 km dróg ekspresowych i autostrad.</br>\n",
    "\n",
    "Kolejną analizowaną zmienną jest liczba ofiar śmiertelnych na 100 tysięcy pojazdów. Najwięcej wspomnianych przypadków w 2021 roku wystąpiło w województwie opolskim, 9,12 osób. W Polsce średnio </br>\n",
    "w 2021 zginęło 6,63 osób na 100 tysięcy pojazdów, a w poszczególnych województwach wartość ta odchyla się przeciętnie o 1,31. W połowie województw, w 2021 roku, w trasie poniosło śmierć nie więcej niż 6,89 osób na 100 tysięcy pojazdów.</br>\n",
    "\n",
    "Kolejną badaną zmienną jest przeciętne miesięczne wynagrodzenie brutto. Największe wartości zaobserwować można w województwie mazowieckim, natomiast najniższe, w warmińsko mazurskim. Rozstęp między</br> tymi wartościami wynosi 1981,45 zł. W poszczególnych województwach wartości odchylają się od średniej wynoszącej 5638,16 zł o 517 zł. W 25% badanych województw zaobserwować mozna minimalne wynagrodzenie na poziomie co najwyżej 5286,74 zł. </br>\n",
    "\n",
    "Ostatnią analizowaną zmienną jest liczba miejsc noclegowych na 1000 ludności. Najwięcej miejsc wystepuje w jednym z najbardziej turystycznych województw Polski, zachodniopomorskim. Jest tam 87,14 miejsc na 1000 ludności. Najmniej natomiast, 7,55 miejsc, w województwie Opolskim. W Polsce średnio występuje 16 miejsc noclegowych na 1000 ludności, a wartość ta odchyla się przeciętnie o 20,05 miejsc w poszczególnych województwach. W 75% województw liczba miejsc noclegowych przekracza 25,43. \n"
   ]
  },
  {
   "cell_type": "markdown",
   "id": "53df90ea-524f-4f84-b631-eddc14f9f12f",
   "metadata": {},
   "source": [
    "#### Maksymalne wartości zmiennych w podziale na wschodnią i zachodnią część kraju"
   ]
  },
  {
   "cell_type": "code",
   "execution_count": 22,
   "id": "71e29a05-d77c-47e7-8352-73af5418b3d4",
   "metadata": {},
   "outputs": [
    {
     "data": {
      "text/html": [
       "<div>\n",
       "<style scoped>\n",
       "    .dataframe tbody tr th:only-of-type {\n",
       "        vertical-align: middle;\n",
       "    }\n",
       "\n",
       "    .dataframe tbody tr th {\n",
       "        vertical-align: top;\n",
       "    }\n",
       "\n",
       "    .dataframe thead th {\n",
       "        text-align: right;\n",
       "    }\n",
       "</style>\n",
       "<table border=\"1\" class=\"dataframe\">\n",
       "  <thead>\n",
       "    <tr style=\"text-align: right;\">\n",
       "      <th></th>\n",
       "      <th>samochody_osobowe</th>\n",
       "      <th>drogi_dla_rowerów</th>\n",
       "      <th>linie_kolejowe</th>\n",
       "      <th>drogi_ekspresowe_i_autostrady</th>\n",
       "      <th>ofiary_śmiertelne</th>\n",
       "      <th>przeciętne_wynagrodzenie</th>\n",
       "      <th>miejsca_noclegowe</th>\n",
       "    </tr>\n",
       "    <tr>\n",
       "      <th>ściana_wschodnia</th>\n",
       "      <th></th>\n",
       "      <th></th>\n",
       "      <th></th>\n",
       "      <th></th>\n",
       "      <th></th>\n",
       "      <th></th>\n",
       "      <th></th>\n",
       "    </tr>\n",
       "  </thead>\n",
       "  <tbody>\n",
       "    <tr>\n",
       "      <th>NIE</th>\n",
       "      <td>742.5</td>\n",
       "      <td>11.10</td>\n",
       "      <td>15.2</td>\n",
       "      <td>2.95</td>\n",
       "      <td>9.12</td>\n",
       "      <td>6242.88</td>\n",
       "      <td>87.14</td>\n",
       "    </tr>\n",
       "    <tr>\n",
       "      <th>TAK</th>\n",
       "      <td>742.4</td>\n",
       "      <td>7.62</td>\n",
       "      <td>7.1</td>\n",
       "      <td>1.36</td>\n",
       "      <td>8.40</td>\n",
       "      <td>7108.20</td>\n",
       "      <td>28.94</td>\n",
       "    </tr>\n",
       "  </tbody>\n",
       "</table>\n",
       "</div>"
      ],
      "text/plain": [
       "                  samochody_osobowe  drogi_dla_rowerów  linie_kolejowe  \\\n",
       "ściana_wschodnia                                                         \n",
       "NIE                           742.5              11.10            15.2   \n",
       "TAK                           742.4               7.62             7.1   \n",
       "\n",
       "                  drogi_ekspresowe_i_autostrady  ofiary_śmiertelne  \\\n",
       "ściana_wschodnia                                                     \n",
       "NIE                                        2.95               9.12   \n",
       "TAK                                        1.36               8.40   \n",
       "\n",
       "                  przeciętne_wynagrodzenie  miejsca_noclegowe  \n",
       "ściana_wschodnia                                               \n",
       "NIE                                6242.88              87.14  \n",
       "TAK                                7108.20              28.94  "
      ]
     },
     "execution_count": 22,
     "metadata": {},
     "output_type": "execute_result"
    }
   ],
   "source": [
    "data.groupby('ściana_wschodnia').max(numeric_only=True)"
   ]
  },
  {
   "cell_type": "markdown",
   "id": "293eda06-f67d-4be7-ae61-1351d7931879",
   "metadata": {},
   "source": [
    "Dla województw znajdujących się na wschodzie maksymum liczby samochodów osobowych jest bardzo zbliżona do</br>\n",
    "województw w drugiej części Polski. Na zachodzie maksymalna długość dróg rowerowych, lini kolejowych i dróg </br>\n",
    "ekspresowych jest niemalże dwukrotnie większa."
   ]
  },
  {
   "cell_type": "markdown",
   "id": "3e1b12fd-fe8b-481f-9720-073e4bda9004",
   "metadata": {},
   "source": [
    "#### Średnie wartości zmiennych w podziale na wschodnią i zachodnią część kraju"
   ]
  },
  {
   "cell_type": "code",
   "execution_count": 23,
   "id": "d7c069af-302f-4d10-971c-5a7947893691",
   "metadata": {},
   "outputs": [
    {
     "data": {
      "text/html": [
       "<div>\n",
       "<style scoped>\n",
       "    .dataframe tbody tr th:only-of-type {\n",
       "        vertical-align: middle;\n",
       "    }\n",
       "\n",
       "    .dataframe tbody tr th {\n",
       "        vertical-align: top;\n",
       "    }\n",
       "\n",
       "    .dataframe thead th {\n",
       "        text-align: right;\n",
       "    }\n",
       "</style>\n",
       "<table border=\"1\" class=\"dataframe\">\n",
       "  <thead>\n",
       "    <tr style=\"text-align: right;\">\n",
       "      <th></th>\n",
       "      <th>samochody_osobowe</th>\n",
       "      <th>drogi_dla_rowerów</th>\n",
       "      <th>linie_kolejowe</th>\n",
       "      <th>drogi_ekspresowe_i_autostrady</th>\n",
       "      <th>ofiary_śmiertelne</th>\n",
       "      <th>przeciętne_wynagrodzenie</th>\n",
       "      <th>miejsca_noclegowe</th>\n",
       "    </tr>\n",
       "    <tr>\n",
       "      <th>ściana_wschodnia</th>\n",
       "      <th></th>\n",
       "      <th></th>\n",
       "      <th></th>\n",
       "      <th></th>\n",
       "      <th></th>\n",
       "      <th></th>\n",
       "      <th></th>\n",
       "    </tr>\n",
       "  </thead>\n",
       "  <tbody>\n",
       "    <tr>\n",
       "      <th>NIE</th>\n",
       "      <td>695.844444</td>\n",
       "      <td>6.952222</td>\n",
       "      <td>7.722222</td>\n",
       "      <td>1.798889</td>\n",
       "      <td>6.957778</td>\n",
       "      <td>5640.307778</td>\n",
       "      <td>25.600000</td>\n",
       "    </tr>\n",
       "    <tr>\n",
       "      <th>TAK</th>\n",
       "      <td>652.314286</td>\n",
       "      <td>4.585714</td>\n",
       "      <td>5.185714</td>\n",
       "      <td>1.082857</td>\n",
       "      <td>6.894286</td>\n",
       "      <td>5635.395714</td>\n",
       "      <td>17.717143</td>\n",
       "    </tr>\n",
       "  </tbody>\n",
       "</table>\n",
       "</div>"
      ],
      "text/plain": [
       "                  samochody_osobowe  drogi_dla_rowerów  linie_kolejowe  \\\n",
       "ściana_wschodnia                                                         \n",
       "NIE                      695.844444           6.952222        7.722222   \n",
       "TAK                      652.314286           4.585714        5.185714   \n",
       "\n",
       "                  drogi_ekspresowe_i_autostrady  ofiary_śmiertelne  \\\n",
       "ściana_wschodnia                                                     \n",
       "NIE                                    1.798889           6.957778   \n",
       "TAK                                    1.082857           6.894286   \n",
       "\n",
       "                  przeciętne_wynagrodzenie  miejsca_noclegowe  \n",
       "ściana_wschodnia                                               \n",
       "NIE                            5640.307778          25.600000  \n",
       "TAK                            5635.395714          17.717143  "
      ]
     },
     "execution_count": 23,
     "metadata": {},
     "output_type": "execute_result"
    }
   ],
   "source": [
    "data.groupby('ściana_wschodnia').mean(numeric_only=True)"
   ]
  },
  {
   "cell_type": "markdown",
   "id": "14db4f65-17ea-4700-8c7f-ec12a62b8528",
   "metadata": {},
   "source": [
    "Średnio w województwach na zachodzie Polski jest o 43 więcej samochodów osobowych na tysiąc mieszkańców. </br>\n",
    "Liczba ofiar śmiertelnych wypadków drogowych i przeciętne miesięczne wynagrodzenie brutto są nieznacznie większe. </br>\n",
    "Długość dróg rowerowych oraz długość linii kolejowych jest o około 2,5 km na 100 km^2 więcej w województwach na zachodzie."
   ]
  },
  {
   "cell_type": "markdown",
   "id": "2a43495a-7b36-4e69-a636-8e69d511275b",
   "metadata": {},
   "source": [
    "### Wizualizacja"
   ]
  },
  {
   "cell_type": "markdown",
   "id": "af9aea57-141d-44b3-a851-47e53e4c065e",
   "metadata": {},
   "source": [
    "#### Wykes kołowy dla zmiennej kategorialnej"
   ]
  },
  {
   "cell_type": "code",
   "execution_count": 24,
   "id": "90764947-51a3-458c-96cd-34760a4236af",
   "metadata": {},
   "outputs": [
    {
     "data": {
      "text/plain": [
       "<AxesSubplot:title={'center':'Czy na wschodzie?'}, ylabel='ściana_wschodnia'>"
      ]
     },
     "execution_count": 24,
     "metadata": {},
     "output_type": "execute_result"
    },
    {
     "data": {
      "image/png": "[encoded data removed]",
      "text/plain": [
       "<Figure size 640x480 with 1 Axes>"
      ]
     },
     "metadata": {},
     "output_type": "display_data"
    }
   ],
   "source": [
    "data.ściana_wschodnia.value_counts().plot.pie(legend={'loc':'best'},\n",
    "                                    colors=['lightgreen', 'blue'],\n",
    "                                    autopct='%.2f%%',\n",
    "                                    explode=[0.1,0],\n",
    "                                    title = 'Czy na wschodzie?',\n",
    "                                    wedgeprops={'linewidth': 1, \n",
    "                                               'edgecolor' :'gray'})"
   ]
  },
  {
   "cell_type": "markdown",
   "id": "9893c838-e78d-42b3-8a48-a0c5edc03e24",
   "metadata": {},
   "source": [
    "43.75% województw jest na wschodzie."
   ]
  },
  {
   "cell_type": "markdown",
   "id": "5525a687-1cab-422e-aa2d-2eb8fd9ab4b0",
   "metadata": {},
   "source": [
    "#### Histogram przedstawiający liczbę miejsc noclegowych na 1000 mieszkańców"
   ]
  },
  {
   "cell_type": "code",
   "execution_count": 25,
   "id": "cef0435a-bd02-4975-a5a6-3f41a6eee60a",
   "metadata": {},
   "outputs": [
    {
     "data": {
      "text/plain": [
       "<AxesSubplot:title={'center':'Liczba miejsc noclegowych na 1000 ludności'}, ylabel='Frequency'>"
      ]
     },
     "execution_count": 25,
     "metadata": {},
     "output_type": "execute_result"
    },
    {
     "data": {
      "image/png": "[encoded data removed]",
      "text/plain": [
       "<Figure size 640x480 with 1 Axes>"
      ]
     },
     "metadata": {},
     "output_type": "display_data"
    }
   ],
   "source": [
    "data.miejsca_noclegowe.plot.hist(color='purple',\n",
    "                      alpha=0.85, \n",
    "                      bins=20,\n",
    "                      edgecolor='black',\n",
    "                      title='Liczba miejsc noclegowych na 1000 ludności')"
   ]
  },
  {
   "cell_type": "markdown",
   "id": "ff5c2730-c884-4336-a703-6ccebfdeefdd",
   "metadata": {},
   "source": [
    "Dla większości województw w Polsce liczba miejsc noclegowych na tysiąc mieszkańców nie przekracza 35. </br>\n",
    "Tylko w dwóch województwach miejsc noclegowych jest więcej; w jednym około 45 na tysiąc mieszkańców, </br>\n",
    "a w drugim około 85 miejsc noclegowych na tysiąc mieszkańców."
   ]
  },
  {
   "cell_type": "markdown",
   "id": "a5f93cc8-d99c-48f2-9b34-7bddd27bb58d",
   "metadata": {},
   "source": [
    "#### Wykres rozrzutu dla zmiennych: `ofiary_śmiertelne` i `drogi_ekspresowe_i_autostrady`"
   ]
  },
  {
   "cell_type": "code",
   "execution_count": 26,
   "id": "4b6818d1-fcc2-4b37-a55c-5ad823b49aa7",
   "metadata": {},
   "outputs": [
    {
     "data": {
      "text/plain": [
       "<AxesSubplot:xlabel='ofiary_śmiertelne', ylabel='drogi_ekspresowe_i_autostrady'>"
      ]
     },
     "execution_count": 26,
     "metadata": {},
     "output_type": "execute_result"
    },
    {
     "data": {
      "image/png": "[encoded data removed]",
      "text/plain": [
       "<Figure size 640x480 with 1 Axes>"
      ]
     },
     "metadata": {},
     "output_type": "display_data"
    }
   ],
   "source": [
    "data.plot.scatter(x='ofiary_śmiertelne', y='drogi_ekspresowe_i_autostrady', color = ['green'])"
   ]
  },
  {
   "cell_type": "markdown",
   "id": "80f82b16-2c05-4fa9-b8e0-35b5dc608cbf",
   "metadata": {},
   "source": [
    "Na wykresie rozrzutu nie widać zależności między liczbą ofiar śmiertelnych a długością dróg ekspresowych i autostrad."
   ]
  },
  {
   "cell_type": "markdown",
   "id": "d95ed839-a431-4c82-b387-47febb7d7b64",
   "metadata": {},
   "source": [
    "#### Macierzowe wykresy rozrzutu dla analizowanych zmiennych"
   ]
  },
  {
   "cell_type": "code",
   "execution_count": null,
   "id": "3a1c808a-0cbd-4c32-a07e-2e71cfb4cc51",
   "metadata": {},
   "outputs": [],
   "source": []
  },
  {
   "cell_type": "code",
   "execution_count": 27,
   "id": "914f62c5-dbb7-4cb8-aaf5-8b9096281568",
   "metadata": {},
   "outputs": [
    {
     "data": {
      "image/png": "[encoded data removed]",
      "text/plain": [
       "<Figure size 1750x1750 with 56 Axes>"
      ]
     },
     "metadata": {},
     "output_type": "display_data"
    }
   ],
   "source": [
    "sns.pairplot(data)\n",
    "plt.show()"
   ]
  },
  {
   "cell_type": "markdown",
   "id": "2d03ef05-faab-44bd-b7e3-f1acbdccdb36",
   "metadata": {},
   "source": [
    "Na macierzowym wykresie rozrzutu nie można w większości przypadków zaobserwować silnej zależności liniowej między zmiennymi. Pewną zależność liniową zaobserwować mozna dla par zmiennych: drogi </br>\n",
    "dla rowerów na 100 km2 oraz linie kolejowe ogółem na 100 km2. Ponadto, słabą korelację liniową dodatnią zaobserwować można dla zmiennych: przeciętne wynagrodzenie i  linie kolejowe ogółem na 100 km2 </br> oraz miejsca noclegowe oraz  linie kolejowe ogółem na 100 km2. "
   ]
  },
  {
   "cell_type": "code",
   "execution_count": 28,
   "id": "d080b0eb-9a4b-4cd6-aafa-0f3016004f7b",
   "metadata": {},
   "outputs": [
    {
     "data": {
      "image/png": "[encoded data removed]",
      "text/plain": [
       "<Figure size 750x750 with 12 Axes>"
      ]
     },
     "metadata": {},
     "output_type": "display_data"
    }
   ],
   "source": [
    "sns.pairplot(data.loc[:,['linie_kolejowe', 'drogi_dla_rowerów', 'miejsca_noclegowe']],\n",
    "             plot_kws ={'color': 'navy'},\n",
    "            diag_kws = {'color': 'darkgreen'})\n",
    "plt.show()"
   ]
  },
  {
   "cell_type": "markdown",
   "id": "5365725e-3f35-43d4-ac4e-9b1214e4a6a4",
   "metadata": {},
   "source": [
    "W celu dokładniejszego zaobserwowania wspomnianyh wyżej korelacji, sporządzono macierzowy wykres rozruztu tylko dla wspomnianych zmiennych. Największą dodatnia korelację liniową zaobserowowac można dla zmiennych: `drogi_dla_rowerów` oraz `linie_kolejowe`."
   ]
  },
  {
   "cell_type": "markdown",
   "id": "2ddadb7a-3b5d-4f3e-9faf-cb6a675e9d09",
   "metadata": {},
   "source": [
    "#### Korelacje"
   ]
  },
  {
   "cell_type": "code",
   "execution_count": 29,
   "id": "f9a14d8b-b60e-44a3-ab6e-b14776949399",
   "metadata": {},
   "outputs": [
    {
     "data": {
      "text/html": [
       "<div>\n",
       "<style scoped>\n",
       "    .dataframe tbody tr th:only-of-type {\n",
       "        vertical-align: middle;\n",
       "    }\n",
       "\n",
       "    .dataframe tbody tr th {\n",
       "        vertical-align: top;\n",
       "    }\n",
       "\n",
       "    .dataframe thead th {\n",
       "        text-align: right;\n",
       "    }\n",
       "</style>\n",
       "<table border=\"1\" class=\"dataframe\">\n",
       "  <thead>\n",
       "    <tr style=\"text-align: right;\">\n",
       "      <th></th>\n",
       "      <th>samochody_osobowe</th>\n",
       "      <th>drogi_dla_rowerów</th>\n",
       "      <th>linie_kolejowe</th>\n",
       "      <th>drogi_ekspresowe_i_autostrady</th>\n",
       "      <th>ofiary_śmiertelne</th>\n",
       "      <th>przeciętne_wynagrodzenie</th>\n",
       "      <th>miejsca_noclegowe</th>\n",
       "    </tr>\n",
       "  </thead>\n",
       "  <tbody>\n",
       "    <tr>\n",
       "      <th>samochody_osobowe</th>\n",
       "      <td>1.00</td>\n",
       "      <td>0.35</td>\n",
       "      <td>0.10</td>\n",
       "      <td>0.24</td>\n",
       "      <td>0.31</td>\n",
       "      <td>0.30</td>\n",
       "      <td>-0.26</td>\n",
       "    </tr>\n",
       "    <tr>\n",
       "      <th>drogi_dla_rowerów</th>\n",
       "      <td>0.35</td>\n",
       "      <td>1.00</td>\n",
       "      <td>0.70</td>\n",
       "      <td>0.51</td>\n",
       "      <td>-0.51</td>\n",
       "      <td>0.46</td>\n",
       "      <td>-0.11</td>\n",
       "    </tr>\n",
       "    <tr>\n",
       "      <th>linie_kolejowe</th>\n",
       "      <td>0.10</td>\n",
       "      <td>0.70</td>\n",
       "      <td>1.00</td>\n",
       "      <td>0.66</td>\n",
       "      <td>-0.49</td>\n",
       "      <td>0.21</td>\n",
       "      <td>-0.17</td>\n",
       "    </tr>\n",
       "    <tr>\n",
       "      <th>drogi_ekspresowe_i_autostrady</th>\n",
       "      <td>0.24</td>\n",
       "      <td>0.51</td>\n",
       "      <td>0.66</td>\n",
       "      <td>1.00</td>\n",
       "      <td>-0.27</td>\n",
       "      <td>0.23</td>\n",
       "      <td>-0.13</td>\n",
       "    </tr>\n",
       "    <tr>\n",
       "      <th>ofiary_śmiertelne</th>\n",
       "      <td>0.31</td>\n",
       "      <td>-0.51</td>\n",
       "      <td>-0.49</td>\n",
       "      <td>-0.27</td>\n",
       "      <td>1.00</td>\n",
       "      <td>-0.27</td>\n",
       "      <td>-0.16</td>\n",
       "    </tr>\n",
       "    <tr>\n",
       "      <th>przeciętne_wynagrodzenie</th>\n",
       "      <td>0.30</td>\n",
       "      <td>0.46</td>\n",
       "      <td>0.21</td>\n",
       "      <td>0.23</td>\n",
       "      <td>-0.27</td>\n",
       "      <td>1.00</td>\n",
       "      <td>0.04</td>\n",
       "    </tr>\n",
       "    <tr>\n",
       "      <th>miejsca_noclegowe</th>\n",
       "      <td>-0.26</td>\n",
       "      <td>-0.11</td>\n",
       "      <td>-0.17</td>\n",
       "      <td>-0.13</td>\n",
       "      <td>-0.16</td>\n",
       "      <td>0.04</td>\n",
       "      <td>1.00</td>\n",
       "    </tr>\n",
       "  </tbody>\n",
       "</table>\n",
       "</div>"
      ],
      "text/plain": [
       "                               samochody_osobowe  drogi_dla_rowerów  \\\n",
       "samochody_osobowe                           1.00               0.35   \n",
       "drogi_dla_rowerów                           0.35               1.00   \n",
       "linie_kolejowe                              0.10               0.70   \n",
       "drogi_ekspresowe_i_autostrady               0.24               0.51   \n",
       "ofiary_śmiertelne                           0.31              -0.51   \n",
       "przeciętne_wynagrodzenie                    0.30               0.46   \n",
       "miejsca_noclegowe                          -0.26              -0.11   \n",
       "\n",
       "                               linie_kolejowe  drogi_ekspresowe_i_autostrady  \\\n",
       "samochody_osobowe                        0.10                           0.24   \n",
       "drogi_dla_rowerów                        0.70                           0.51   \n",
       "linie_kolejowe                           1.00                           0.66   \n",
       "drogi_ekspresowe_i_autostrady            0.66                           1.00   \n",
       "ofiary_śmiertelne                       -0.49                          -0.27   \n",
       "przeciętne_wynagrodzenie                 0.21                           0.23   \n",
       "miejsca_noclegowe                       -0.17                          -0.13   \n",
       "\n",
       "                               ofiary_śmiertelne  przeciętne_wynagrodzenie  \\\n",
       "samochody_osobowe                           0.31                      0.30   \n",
       "drogi_dla_rowerów                          -0.51                      0.46   \n",
       "linie_kolejowe                             -0.49                      0.21   \n",
       "drogi_ekspresowe_i_autostrady              -0.27                      0.23   \n",
       "ofiary_śmiertelne                           1.00                     -0.27   \n",
       "przeciętne_wynagrodzenie                   -0.27                      1.00   \n",
       "miejsca_noclegowe                          -0.16                      0.04   \n",
       "\n",
       "                               miejsca_noclegowe  \n",
       "samochody_osobowe                          -0.26  \n",
       "drogi_dla_rowerów                          -0.11  \n",
       "linie_kolejowe                             -0.17  \n",
       "drogi_ekspresowe_i_autostrady              -0.13  \n",
       "ofiary_śmiertelne                          -0.16  \n",
       "przeciętne_wynagrodzenie                    0.04  \n",
       "miejsca_noclegowe                           1.00  "
      ]
     },
     "execution_count": 29,
     "metadata": {},
     "output_type": "execute_result"
    }
   ],
   "source": [
    "macierz_kor = data.corr().round(2)\n",
    "macierz_kor"
   ]
  },
  {
   "cell_type": "code",
   "execution_count": 30,
   "id": "3b3ed49e-86a1-49fb-bad4-207bfe4c9f77",
   "metadata": {},
   "outputs": [
    {
     "data": {
      "text/plain": [
       "<AxesSubplot:>"
      ]
     },
     "execution_count": 30,
     "metadata": {},
     "output_type": "execute_result"
    },
    {
     "data": {
      "image/png": "[encoded data removed]",
      "text/plain": [
       "<Figure size 400x1000 with 1 Axes>"
      ]
     },
     "metadata": {},
     "output_type": "display_data"
    }
   ],
   "source": [
    "plt.figure(figsize=(4,10)) \n",
    "sns.heatmap(macierz_kor, \n",
    "            vmin=-1, \n",
    "            vmax=1, \n",
    "            cmap='PuOr',\n",
    "            linecolor='white',\n",
    "            linewidth=1,\n",
    "            cbar=False,\n",
    "            annot= True,\n",
    "            square=True,\n",
    "            cbar_kws={\"orientation\": \"horizontal\"})"
   ]
  },
  {
   "cell_type": "markdown",
   "id": "0d785b03-6436-422a-b9b2-cec2dc2b5317",
   "metadata": {},
   "source": [
    "#### Modele ekonometryczne"
   ]
  },
  {
   "cell_type": "code",
   "execution_count": 31,
   "id": "c8ef864f-8135-45a9-a755-63ca55c28849",
   "metadata": {},
   "outputs": [],
   "source": [
    "data_a = sm.add_constant(data)"
   ]
  },
  {
   "cell_type": "code",
   "execution_count": 32,
   "id": "d40d5d15-b55d-46c1-98be-047a00daf607",
   "metadata": {},
   "outputs": [
    {
     "name": "stderr",
     "output_type": "stream",
     "text": [
      "C:\\ProgramData\\Anaconda3\\lib\\site-packages\\scipy\\stats\\_stats_py.py:1769: UserWarning: kurtosistest only valid for n>=20 ... continuing anyway, n=16\n",
      "  warnings.warn(\"kurtosistest only valid for n>=20 ... continuing \"\n"
     ]
    },
    {
     "data": {
      "text/html": [
       "<table class=\"simpletable\">\n",
       "<caption>OLS Regression Results</caption>\n",
       "<tr>\n",
       "  <th>Dep. Variable:</th>    <td>samochody_osobowe</td> <th>  R-squared (uncentered):</th>      <td>   0.992</td>\n",
       "</tr>\n",
       "<tr>\n",
       "  <th>Model:</th>                   <td>OLS</td>        <th>  Adj. R-squared (uncentered):</th> <td>   0.990</td>\n",
       "</tr>\n",
       "<tr>\n",
       "  <th>Method:</th>             <td>Least Squares</td>   <th>  F-statistic:       </th>          <td>   511.2</td>\n",
       "</tr>\n",
       "<tr>\n",
       "  <th>Date:</th>             <td>Thu, 19 Jan 2023</td>  <th>  Prob (F-statistic):</th>          <td>9.80e-14</td>\n",
       "</tr>\n",
       "<tr>\n",
       "  <th>Time:</th>                 <td>21:52:09</td>      <th>  Log-Likelihood:    </th>          <td> -88.785</td>\n",
       "</tr>\n",
       "<tr>\n",
       "  <th>No. Observations:</th>      <td>    16</td>       <th>  AIC:               </th>          <td>   183.6</td>\n",
       "</tr>\n",
       "<tr>\n",
       "  <th>Df Residuals:</th>          <td>    13</td>       <th>  BIC:               </th>          <td>   185.9</td>\n",
       "</tr>\n",
       "<tr>\n",
       "  <th>Df Model:</th>              <td>     3</td>       <th>                     </th>              <td> </td>   \n",
       "</tr>\n",
       "<tr>\n",
       "  <th>Covariance Type:</th>      <td>nonrobust</td>     <th>                     </th>              <td> </td>   \n",
       "</tr>\n",
       "</table>\n",
       "<table class=\"simpletable\">\n",
       "<tr>\n",
       "                <td></td>                   <th>coef</th>     <th>std err</th>      <th>t</th>      <th>P>|t|</th>  <th>[0.025</th>    <th>0.975]</th>  \n",
       "</tr>\n",
       "<tr>\n",
       "  <th>przeciętne_wynagrodzenie</th>      <td>    0.1181</td> <td>    0.011</td> <td>   11.103</td> <td> 0.000</td> <td>    0.095</td> <td>    0.141</td>\n",
       "</tr>\n",
       "<tr>\n",
       "  <th>drogi_ekspresowe_i_autostrady</th> <td>   14.7589</td> <td>   31.471</td> <td>    0.469</td> <td> 0.647</td> <td>  -53.230</td> <td>   82.748</td>\n",
       "</tr>\n",
       "<tr>\n",
       "  <th>drogi_dla_rowerów</th>             <td>   -2.5353</td> <td>   10.302</td> <td>   -0.246</td> <td> 0.809</td> <td>  -24.792</td> <td>   19.722</td>\n",
       "</tr>\n",
       "</table>\n",
       "<table class=\"simpletable\">\n",
       "<tr>\n",
       "  <th>Omnibus:</th>       <td> 1.466</td> <th>  Durbin-Watson:     </th> <td>   1.653</td>\n",
       "</tr>\n",
       "<tr>\n",
       "  <th>Prob(Omnibus):</th> <td> 0.481</td> <th>  Jarque-Bera (JB):  </th> <td>   0.850</td>\n",
       "</tr>\n",
       "<tr>\n",
       "  <th>Skew:</th>          <td> 0.065</td> <th>  Prob(JB):          </th> <td>   0.654</td>\n",
       "</tr>\n",
       "<tr>\n",
       "  <th>Kurtosis:</th>      <td> 1.878</td> <th>  Cond. No.          </th> <td>1.05e+04</td>\n",
       "</tr>\n",
       "</table><br/><br/>Notes:<br/>[1] R² is computed without centering (uncentered) since the model does not contain a constant.<br/>[2] Standard Errors assume that the covariance matrix of the errors is correctly specified.<br/>[3] The condition number is large, 1.05e+04. This might indicate that there are<br/>strong multicollinearity or other numerical problems."
      ],
      "text/plain": [
       "<class 'statsmodels.iolib.summary.Summary'>\n",
       "\"\"\"\n",
       "                                 OLS Regression Results                                \n",
       "=======================================================================================\n",
       "Dep. Variable:      samochody_osobowe   R-squared (uncentered):                   0.992\n",
       "Model:                            OLS   Adj. R-squared (uncentered):              0.990\n",
       "Method:                 Least Squares   F-statistic:                              511.2\n",
       "Date:                Thu, 19 Jan 2023   Prob (F-statistic):                    9.80e-14\n",
       "Time:                        21:52:09   Log-Likelihood:                         -88.785\n",
       "No. Observations:                  16   AIC:                                      183.6\n",
       "Df Residuals:                      13   BIC:                                      185.9\n",
       "Df Model:                           3                                                  \n",
       "Covariance Type:            nonrobust                                                  \n",
       "=================================================================================================\n",
       "                                    coef    std err          t      P>|t|      [0.025      0.975]\n",
       "-------------------------------------------------------------------------------------------------\n",
       "przeciętne_wynagrodzenie          0.1181      0.011     11.103      0.000       0.095       0.141\n",
       "drogi_ekspresowe_i_autostrady    14.7589     31.471      0.469      0.647     -53.230      82.748\n",
       "drogi_dla_rowerów                -2.5353     10.302     -0.246      0.809     -24.792      19.722\n",
       "==============================================================================\n",
       "Omnibus:                        1.466   Durbin-Watson:                   1.653\n",
       "Prob(Omnibus):                  0.481   Jarque-Bera (JB):                0.850\n",
       "Skew:                           0.065   Prob(JB):                        0.654\n",
       "Kurtosis:                       1.878   Cond. No.                     1.05e+04\n",
       "==============================================================================\n",
       "\n",
       "Notes:\n",
       "[1] R² is computed without centering (uncentered) since the model does not contain a constant.\n",
       "[2] Standard Errors assume that the covariance matrix of the errors is correctly specified.\n",
       "[3] The condition number is large, 1.05e+04. This might indicate that there are\n",
       "strong multicollinearity or other numerical problems.\n",
       "\"\"\""
      ]
     },
     "execution_count": 32,
     "metadata": {},
     "output_type": "execute_result"
    }
   ],
   "source": [
    "model1 = sm.OLS(endog=data_a['samochody_osobowe'], \n",
    "                 exog=data_a[['przeciętne_wynagrodzenie','drogi_ekspresowe_i_autostrady','drogi_dla_rowerów']]).fit()\n",
    "\n",
    "model1.summary()"
   ]
  },
  {
   "cell_type": "markdown",
   "id": "b049fd6b-b4c7-472d-a4f8-89f70fbefa2f",
   "metadata": {},
   "source": [
    "W kolejnym etapie przeprowadzonego badania sporządzono model ekonometryczny. Za zmienną objaśnianą przyjęto liczbę samochodów osobowych na 1000 ludności, a na zmienne objaśniające wybrano miesięczne wynagrodzenie brutto, drogi ekspresowe i autostrady na 100 km2 oraz drogi dla rowerów na 100 km2. Współczynnik determinacji R2 wskazuje na fakt, iż zmienna objaśniana wyjaśniona jest przez zmienne objaśniające w 99,2%, a więc model jest dobrze dopasowany do danych.\n",
    "Wektor parametrów strukturalnych wyznaczonego modelu przyjmuje postać: y = 0,12 X1 + 14,76 x2 - 2,54 X3, gdzie:\n",
    "\n",
    "X1 - miesięczne wynagrodzenie brutto\n",
    "\n",
    "X2 - drogi ekspresowe i autostrady na 100 km2\n",
    "\n",
    "X3 - drogi dla rowerów na 100 km2\n",
    "\n",
    "\n",
    "Zdecydowano się zweryfikować istotność poszczególnych parametrów strukturalnych. Wartość p-value dla zmiennej przeciętne wynagrodzenie jest wyraźnie niższe niż założony poziom istotności 0,05, zatem uznać można, że zmienna ta jest istotna. W przypadku zmiennych drogi ekspresowe i autostrady na 100 km2 oraz drogi dla rowerów na 100 km2 poziom p-value jest wysoki, odpowiednio 0,647 i 0,809. \n",
    "\n",
    "Na poziomie istotności 0,05 nie ma podstaw do odrzucenia hipotezy zerowej. Wysunięto zatem wniosek, który jednoznacznie stwierdza brak istotności parametrów przy drugiej oraz trzeciej zmiennej objaśniającej. Długość dróg ekspresowych i autostrad oraz długość dróg dla rowerów nie wpływają istotnie na ilość samochodów osobowych. Zmienna X2 i X3 zostaną usunięte z modelu, gdyż nie wpływają na kształtowanie się zmiennej zależnej. "
   ]
  },
  {
   "cell_type": "markdown",
   "id": "4fc7f36d-42b5-46e6-8771-35ba447bdfbc",
   "metadata": {},
   "source": [
    "#### Drugi model"
   ]
  },
  {
   "cell_type": "code",
   "execution_count": 33,
   "id": "b2b32c38-7a5c-40aa-88fd-9da1adfcb1b8",
   "metadata": {},
   "outputs": [
    {
     "name": "stderr",
     "output_type": "stream",
     "text": [
      "C:\\ProgramData\\Anaconda3\\lib\\site-packages\\scipy\\stats\\_stats_py.py:1769: UserWarning: kurtosistest only valid for n>=20 ... continuing anyway, n=16\n",
      "  warnings.warn(\"kurtosistest only valid for n>=20 ... continuing \"\n"
     ]
    },
    {
     "data": {
      "text/html": [
       "<table class=\"simpletable\">\n",
       "<caption>OLS Regression Results</caption>\n",
       "<tr>\n",
       "  <th>Dep. Variable:</th>    <td>samochody_osobowe</td> <th>  R-squared (uncentered):</th>      <td>   0.991</td>\n",
       "</tr>\n",
       "<tr>\n",
       "  <th>Model:</th>                   <td>OLS</td>        <th>  Adj. R-squared (uncentered):</th> <td>   0.991</td>\n",
       "</tr>\n",
       "<tr>\n",
       "  <th>Method:</th>             <td>Least Squares</td>   <th>  F-statistic:       </th>          <td>   1740.</td>\n",
       "</tr>\n",
       "<tr>\n",
       "  <th>Date:</th>             <td>Thu, 19 Jan 2023</td>  <th>  Prob (F-statistic):</th>          <td>6.28e-17</td>\n",
       "</tr>\n",
       "<tr>\n",
       "  <th>Time:</th>                 <td>21:52:09</td>      <th>  Log-Likelihood:    </th>          <td> -88.920</td>\n",
       "</tr>\n",
       "<tr>\n",
       "  <th>No. Observations:</th>      <td>    16</td>       <th>  AIC:               </th>          <td>   179.8</td>\n",
       "</tr>\n",
       "<tr>\n",
       "  <th>Df Residuals:</th>          <td>    15</td>       <th>  BIC:               </th>          <td>   180.6</td>\n",
       "</tr>\n",
       "<tr>\n",
       "  <th>Df Model:</th>              <td>     1</td>       <th>                     </th>              <td> </td>   \n",
       "</tr>\n",
       "<tr>\n",
       "  <th>Covariance Type:</th>      <td>nonrobust</td>     <th>                     </th>              <td> </td>   \n",
       "</tr>\n",
       "</table>\n",
       "<table class=\"simpletable\">\n",
       "<tr>\n",
       "              <td></td>                <th>coef</th>     <th>std err</th>      <th>t</th>      <th>P>|t|</th>  <th>[0.025</th>    <th>0.975]</th>  \n",
       "</tr>\n",
       "<tr>\n",
       "  <th>przeciętne_wynagrodzenie</th> <td>    0.1193</td> <td>    0.003</td> <td>   41.708</td> <td> 0.000</td> <td>    0.113</td> <td>    0.125</td>\n",
       "</tr>\n",
       "</table>\n",
       "<table class=\"simpletable\">\n",
       "<tr>\n",
       "  <th>Omnibus:</th>       <td> 0.873</td> <th>  Durbin-Watson:     </th> <td>   1.556</td>\n",
       "</tr>\n",
       "<tr>\n",
       "  <th>Prob(Omnibus):</th> <td> 0.646</td> <th>  Jarque-Bera (JB):  </th> <td>   0.680</td>\n",
       "</tr>\n",
       "<tr>\n",
       "  <th>Skew:</th>          <td>-0.019</td> <th>  Prob(JB):          </th> <td>   0.712</td>\n",
       "</tr>\n",
       "<tr>\n",
       "  <th>Kurtosis:</th>      <td> 1.991</td> <th>  Cond. No.          </th> <td>    1.00</td>\n",
       "</tr>\n",
       "</table><br/><br/>Notes:<br/>[1] R² is computed without centering (uncentered) since the model does not contain a constant.<br/>[2] Standard Errors assume that the covariance matrix of the errors is correctly specified."
      ],
      "text/plain": [
       "<class 'statsmodels.iolib.summary.Summary'>\n",
       "\"\"\"\n",
       "                                 OLS Regression Results                                \n",
       "=======================================================================================\n",
       "Dep. Variable:      samochody_osobowe   R-squared (uncentered):                   0.991\n",
       "Model:                            OLS   Adj. R-squared (uncentered):              0.991\n",
       "Method:                 Least Squares   F-statistic:                              1740.\n",
       "Date:                Thu, 19 Jan 2023   Prob (F-statistic):                    6.28e-17\n",
       "Time:                        21:52:09   Log-Likelihood:                         -88.920\n",
       "No. Observations:                  16   AIC:                                      179.8\n",
       "Df Residuals:                      15   BIC:                                      180.6\n",
       "Df Model:                           1                                                  \n",
       "Covariance Type:            nonrobust                                                  \n",
       "============================================================================================\n",
       "                               coef    std err          t      P>|t|      [0.025      0.975]\n",
       "--------------------------------------------------------------------------------------------\n",
       "przeciętne_wynagrodzenie     0.1193      0.003     41.708      0.000       0.113       0.125\n",
       "==============================================================================\n",
       "Omnibus:                        0.873   Durbin-Watson:                   1.556\n",
       "Prob(Omnibus):                  0.646   Jarque-Bera (JB):                0.680\n",
       "Skew:                          -0.019   Prob(JB):                        0.712\n",
       "Kurtosis:                       1.991   Cond. No.                         1.00\n",
       "==============================================================================\n",
       "\n",
       "Notes:\n",
       "[1] R² is computed without centering (uncentered) since the model does not contain a constant.\n",
       "[2] Standard Errors assume that the covariance matrix of the errors is correctly specified.\n",
       "\"\"\""
      ]
     },
     "execution_count": 33,
     "metadata": {},
     "output_type": "execute_result"
    }
   ],
   "source": [
    "model2 = sm.OLS(endog=data_a['samochody_osobowe'], \n",
    "                 exog=data_a[['przeciętne_wynagrodzenie']]).fit()\n",
    "\n",
    "model2.summary()"
   ]
  },
  {
   "cell_type": "markdown",
   "id": "bb9a4208-2e98-4033-9102-1a2e37c9ece9",
   "metadata": {},
   "source": [
    "Po usunięciu niestotnych zmiennych z modelu otrzymano równanie z jedną zmienną objaśniającą - przeciętrne wynagrodzenie brutto, y = 0,12 X1\n",
    "Otrzymane parametry można więc interpretować w następujący sposób: \n",
    "\n",
    "Jeżeli miesięczne wynagrodzenie brutto wzrośnie o jedną jednostkę, to liczba samochodów osobowych wzrośnie średnio o 0,12, przy założeniu, że długość dróg ekspresowych i autostrad na 100 km2 oraz dróg dla rowerów na 100 km2 nie ulegną zmianie.  \n",
    "\n",
    "Współczynnik determinacji osiąga wartość 0,991, a więc model jest bardzo dobrze dopasowany do danych. P-value kształtuje się na poziomie 0,0, zatem zmienna jest istotna. Można zatem wnioskować, że wysokość wynagrodzenia brutto na poziomie istotności 0,05 wpływa na liczbę samochodów osobowych. \n",
    "\n",
    "Po weryfikacji istotności parametrów zdecydowano się na sprawdzenie normalności reszt rozkładu przy pomocy testu Jarque Bera na poziomie istotności 0,05. Statystyka testu wynosi 0,68. Wartość krytyczna odczytana z tablic rozkładu Chi2 wynosi 5,99. Wnioskować zatem można, że należy przyjąć hipotezę zerową. Reszty modelu mają rozkład normalny. "
   ]
  },
  {
   "cell_type": "code",
   "execution_count": 34,
   "id": "c50a7150-3fe6-4733-a101-44fb757dfddd",
   "metadata": {},
   "outputs": [
    {
     "name": "stderr",
     "output_type": "stream",
     "text": [
      "C:\\ProgramData\\Anaconda3\\lib\\site-packages\\scipy\\stats\\_stats_py.py:1769: UserWarning: kurtosistest only valid for n>=20 ... continuing anyway, n=16\n",
      "  warnings.warn(\"kurtosistest only valid for n>=20 ... continuing \"\n"
     ]
    },
    {
     "data": {
      "text/html": [
       "<table class=\"simpletable\">\n",
       "<caption>OLS Regression Results</caption>\n",
       "<tr>\n",
       "  <th>Dep. Variable:</th>    <td>samochody_osobowe</td> <th>  R-squared (uncentered):</th>      <td>   0.992</td>\n",
       "</tr>\n",
       "<tr>\n",
       "  <th>Model:</th>                   <td>OLS</td>        <th>  Adj. R-squared (uncentered):</th> <td>   0.991</td>\n",
       "</tr>\n",
       "<tr>\n",
       "  <th>Method:</th>             <td>Least Squares</td>   <th>  F-statistic:       </th>          <td>   876.7</td>\n",
       "</tr>\n",
       "<tr>\n",
       "  <th>Date:</th>             <td>Thu, 19 Jan 2023</td>  <th>  Prob (F-statistic):</th>          <td>1.96e-15</td>\n",
       "</tr>\n",
       "<tr>\n",
       "  <th>Time:</th>                 <td>21:52:09</td>      <th>  Log-Likelihood:    </th>          <td> -88.309</td>\n",
       "</tr>\n",
       "<tr>\n",
       "  <th>No. Observations:</th>      <td>    16</td>       <th>  AIC:               </th>          <td>   180.6</td>\n",
       "</tr>\n",
       "<tr>\n",
       "  <th>Df Residuals:</th>          <td>    14</td>       <th>  BIC:               </th>          <td>   182.2</td>\n",
       "</tr>\n",
       "<tr>\n",
       "  <th>Df Model:</th>              <td>     2</td>       <th>                     </th>              <td> </td>   \n",
       "</tr>\n",
       "<tr>\n",
       "  <th>Covariance Type:</th>      <td>nonrobust</td>     <th>                     </th>              <td> </td>   \n",
       "</tr>\n",
       "</table>\n",
       "<table class=\"simpletable\">\n",
       "<tr>\n",
       "          <td></td>             <th>coef</th>     <th>std err</th>      <th>t</th>      <th>P>|t|</th>  <th>[0.025</th>    <th>0.975]</th>  \n",
       "</tr>\n",
       "<tr>\n",
       "  <th>drogi_dla_rowerów</th> <td>   36.3242</td> <td>    5.833</td> <td>    6.228</td> <td> 0.000</td> <td>   23.814</td> <td>   48.834</td>\n",
       "</tr>\n",
       "<tr>\n",
       "  <th>ofiary_śmiertelne</th> <td>   65.8002</td> <td>    5.189</td> <td>   12.681</td> <td> 0.000</td> <td>   54.671</td> <td>   76.929</td>\n",
       "</tr>\n",
       "</table>\n",
       "<table class=\"simpletable\">\n",
       "<tr>\n",
       "  <th>Omnibus:</th>       <td> 0.739</td> <th>  Durbin-Watson:     </th> <td>   2.907</td>\n",
       "</tr>\n",
       "<tr>\n",
       "  <th>Prob(Omnibus):</th> <td> 0.691</td> <th>  Jarque-Bera (JB):  </th> <td>   0.712</td>\n",
       "</tr>\n",
       "<tr>\n",
       "  <th>Skew:</th>          <td> 0.276</td> <th>  Prob(JB):          </th> <td>   0.700</td>\n",
       "</tr>\n",
       "<tr>\n",
       "  <th>Kurtosis:</th>      <td> 2.126</td> <th>  Cond. No.          </th> <td>    4.33</td>\n",
       "</tr>\n",
       "</table><br/><br/>Notes:<br/>[1] R² is computed without centering (uncentered) since the model does not contain a constant.<br/>[2] Standard Errors assume that the covariance matrix of the errors is correctly specified."
      ],
      "text/plain": [
       "<class 'statsmodels.iolib.summary.Summary'>\n",
       "\"\"\"\n",
       "                                 OLS Regression Results                                \n",
       "=======================================================================================\n",
       "Dep. Variable:      samochody_osobowe   R-squared (uncentered):                   0.992\n",
       "Model:                            OLS   Adj. R-squared (uncentered):              0.991\n",
       "Method:                 Least Squares   F-statistic:                              876.7\n",
       "Date:                Thu, 19 Jan 2023   Prob (F-statistic):                    1.96e-15\n",
       "Time:                        21:52:09   Log-Likelihood:                         -88.309\n",
       "No. Observations:                  16   AIC:                                      180.6\n",
       "Df Residuals:                      14   BIC:                                      182.2\n",
       "Df Model:                           2                                                  \n",
       "Covariance Type:            nonrobust                                                  \n",
       "=====================================================================================\n",
       "                        coef    std err          t      P>|t|      [0.025      0.975]\n",
       "-------------------------------------------------------------------------------------\n",
       "drogi_dla_rowerów    36.3242      5.833      6.228      0.000      23.814      48.834\n",
       "ofiary_śmiertelne    65.8002      5.189     12.681      0.000      54.671      76.929\n",
       "==============================================================================\n",
       "Omnibus:                        0.739   Durbin-Watson:                   2.907\n",
       "Prob(Omnibus):                  0.691   Jarque-Bera (JB):                0.712\n",
       "Skew:                           0.276   Prob(JB):                        0.700\n",
       "Kurtosis:                       2.126   Cond. No.                         4.33\n",
       "==============================================================================\n",
       "\n",
       "Notes:\n",
       "[1] R² is computed without centering (uncentered) since the model does not contain a constant.\n",
       "[2] Standard Errors assume that the covariance matrix of the errors is correctly specified.\n",
       "\"\"\""
      ]
     },
     "execution_count": 34,
     "metadata": {},
     "output_type": "execute_result"
    }
   ],
   "source": [
    "model3 = sm.OLS(endog=data_a['samochody_osobowe'], \n",
    "                 exog=data_a[['drogi_dla_rowerów','ofiary_śmiertelne']]).fit()\n",
    "\n",
    "model3.summary()"
   ]
  },
  {
   "cell_type": "markdown",
   "id": "1015a8ac-ca05-4f1b-bdee-d535fb8987b1",
   "metadata": {},
   "source": [
    "W drugim modelu ekonometrycznym, który zdecydowano się stworzyć, zmienną objaśnianą ponownie jest liczba samochodów osobowych. Zmiennymi objaśniającymi natomiast są: drogi dla </br> rowerów na 100 km2 oraz ofiary śmiertelne na 100 tysięcy mieszkańców. \n",
    "Współczynnik determinacji R2 wskazuje na fakt, iż zmienna objaśniana wyjaśniona jest przez zmienne objaśniające w 99,2%, a więc model jest dobrze dopasowany do danych.\n",
    "\n",
    "Wektor parametrów strukturalnych wyznaczonego modelu przyjmuje postać: y = 36,32 X3 + 65,8 X4 , gdzie:\n",
    "\n",
    "X3 - drogi dla rowerów na 100 km2\n",
    "\n",
    "X4 - ofiary śmiertelne na 100 tysięcy mieszkańców\n",
    "\n",
    "Otrzymane parametry można więc interpretować w następujący sposób: \n",
    "\n",
    "Jeżeli długość dróg dla rowerów wzrośnie o jedną jednostkę, to liczba samochodów osobowych wzrośnie średnio o 36,32, przy założeniu, że liczba ofiar śmiertelnych w tym okresie nie ulegnie zmianie. </br>\n",
    "Jeżeli liczba ofiar śmiertelnych na 100 tysięcy pojazdów wzrośnie o jedną jednostkę, to liczba samochodów osobowych wzrośnie średnio o 65,8, przy założeniu, że długość dróg dla rowerów nie ulegnie zmianie.\n",
    "\n",
    "\n",
    "Analizując istotność parametrów struktualnych zaobserwowano, że w przypadku obu zmiennych p-value przymuje wartość zerową, co oznacza, że na poziomie istotności 0,05, zmienne te są istotne. Wnisokować zatem można, że długość dróg dla rowerów oraz liczba ofiar śmiertelnych wpływa istotnie na liczbę samochodów osobowych. \n",
    "\n",
    "Po weryfikacji istotności parametrów zdecydowano się na sprawdzenie normalności reszt rozkładu przy pomocy testu Jarque Bera na poziomie istotności 0,05. Statystyka testu wynosi 0,712. Wartość krytyczna odczytana z tablic rozkładu Chi2 wynosi 5,99. Wnioskować zatem można, że należy przyjąć hipotezę zerową. Reszty modelu mają rozkład normalny. "
   ]
  },
  {
   "cell_type": "markdown",
   "id": "9091310a-48ea-40c1-b562-ba46581f5f0e",
   "metadata": {},
   "source": [
    "#### Odpowiedzi na pytania badawcze"
   ]
  },
  {
   "cell_type": "markdown",
   "id": "7380bbef-532d-432a-822a-739e2d605740",
   "metadata": {},
   "source": [
    "1. Jak kształtują się średnie wartości zmiennej: liczba samochodów osobowych w podziale na wschodnią oraz zachodnią część Polski?\n",
    "* Na podstawie przeprowadzonego badania stwierdzić można, że średnio w województwach na zachodzie Polski jest o 43 więcej samochodów osobowych na tysiąc mieszkańców, niż w województwach wschodnich.\n",
    "2. Czy można zaobserowować korelacje między zmiennymi?\n",
    "* Na podstawie macierzowego wykresu rozrzutu nie można zaobserwować wyraźnych, silnych korelacji między zmiennymi. Na macierzowym wykresie rozrzutu nie można w większości przypadków zaobserwować silnej zależności liniowej między zmiennymi. Niezbyt silna, dodatnią zależność liniową zaobserwować mozna dla par zmiennych: drogi dla rowerów na 100 km2 oraz linie kolejowe ogółem na 100 km2. Ponadto, słabą, dodatnią korelację liniową dodatnią zaobserwować można dla zmiennych: przeciętne wynagrodzenie i  linie kolejowe ogółem na 100 km2 oraz miejsca noclegowe oraz  linie kolejowe ogółem na 100 km2. \n",
    "3. Jak prezentuje się postać liniowego modelu ekonometrycznego?\n",
    "* Zdecydowano się na stworzenie dwóch modeli ekonometrycznych. Pierwszy z nich przyjął finalnie postać: y = 0,12 X1, gdzie Y- liczba samochodów osobowych, a X1 - przeciętne wynagrodzenie brutto. Drugi model natomiast przyjął postać: y = 36,32 X3 + 65,8 X4 , gdzie: Y- liczba samochodów osobowych, X3 - drogi dla rowerów na 100 km2, a X4 - ofiary śmiertelne na 100 tysięcy mieszkańców\n",
    "4. Czy oszacowane modele są istotne?\n",
    "* Po weryfikacji istotności parametrów strukturalnych modeli stwierdzono, że w przypadku pierwszego modelu, wysokość wynagrodzenia brutto na poziomie istotności 0,05 wpływa na liczbę samochodów osobowych. Parametry drugiego modelu również okazały się istotne, zatem stwierdzono, że długość dróg dla rowerów oraz liczba ofiar śmiertelnych wpływa istotnie na liczbę samochodów osobowych. \n",
    "5. Czy reszty modeli mają rozkład normalny?\n",
    "* Po zastosowaniu testu Jarque Bera dla obu modeli ekonometrycznych, stwierdzono w obu przypadkach, że na poziomie istotności 0,05 należy przyjąć hipotezę zerową, a więc reszty otrzymane z powstałych modeli, mają rozkład normalny. "
   ]
  },
  {
   "cell_type": "code",
   "execution_count": null,
   "id": "f88f8e84-ff29-4d38-b767-3b8ce3cea7d6",
   "metadata": {},
   "outputs": [],
   "source": []
  }
 ],
 "metadata": {
  "kernelspec": {
   "display_name": "Python 3 (ipykernel)",
   "language": "python",
   "name": "python3"
  },
  "language_info": {
   "codemirror_mode": {
    "name": "ipython",
    "version": 3
   },
   "file_extension": ".py",
   "mimetype": "text/x-python",
   "name": "python",
   "nbconvert_exporter": "python",
   "pygments_lexer": "ipython3",
   "version": "3.9.13"
  }
 },
 "nbformat": 4,
 "nbformat_minor": 5
}
